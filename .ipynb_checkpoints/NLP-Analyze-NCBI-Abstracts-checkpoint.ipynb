{
 "cells": [
  {
   "cell_type": "markdown",
   "metadata": {},
   "source": [
    "# NLP Analysis of Scientific Abstracts\n",
    "---\n",
    "####  US National Library of Medicine National Institutes of Health \n",
    "#### The National Center for Biotechnology Information \n",
    "#### PubMed"
   ]
  },
  {
   "cell_type": "code",
   "execution_count": 1,
   "metadata": {},
   "outputs": [],
   "source": [
    "# Import stanard tools\n",
    "import numpy as np\n",
    "import pandas as pd\n",
    "import glob\n",
    "import re"
   ]
  },
  {
   "cell_type": "code",
   "execution_count": 2,
   "metadata": {},
   "outputs": [],
   "source": [
    "# Import for NLP tools\n",
    "import gensim\n",
    "import gensim.corpora as corpora\n",
    "from gensim.utils import simple_preprocess\n",
    "from gensim.models import CoherenceModel\n",
    "\n",
    "# Import mallet for topic modeling\n",
    "mallet_path = '/usr/share/Mallet/bin/mallet'\n",
    "\n",
    "# Spacy to lemmate\n",
    "import spacy\n",
    "\n",
    "# Import NLTK for stop words\n",
    "from nltk.corpus import stopwords"
   ]
  },
  {
   "cell_type": "code",
   "execution_count": 3,
   "metadata": {},
   "outputs": [],
   "source": [
    "# Import visualization tools\n",
    "import pyLDAvis\n",
    "import pyLDAvis.gensim\n",
    "import matplotlib.pyplot as plt\n",
    "%matplotlib inline"
   ]
  },
  {
   "cell_type": "code",
   "execution_count": 4,
   "metadata": {},
   "outputs": [],
   "source": [
    "# Import train / test\n",
    "from sklearn.model_selection import train_test_split"
   ]
  },
  {
   "cell_type": "code",
   "execution_count": 5,
   "metadata": {},
   "outputs": [],
   "source": [
    "# Import custom module to get abstracts\n",
    "from lib.get_abstracts import get_abstracts"
   ]
  },
  {
   "cell_type": "code",
   "execution_count": 6,
   "metadata": {},
   "outputs": [],
   "source": [
    "# Suppress warnings\n",
    "import warnings\n",
    "warnings.filterwarnings(\"ignore\",category=DeprecationWarning)"
   ]
  },
  {
   "cell_type": "code",
   "execution_count": 7,
   "metadata": {},
   "outputs": [],
   "source": [
    "# # #Get abstracts and create csv of abstracts\n",
    "# # # API key obtained from NCBI\n",
    "# get_abstracts('gene therapy', 100, 'ragorham1@gmail.com', \n",
    "#               '3ffbbb6bd110815d69e4aa14b7c26d72ab09')\n",
    "\n",
    "# get_abstracts('chemotherapy', 100, 'ragorham1@gmail.com', \n",
    "#               '3ffbbb6bd110815d69e4aa14b7c26d72ab09')\n",
    "\n",
    "# get_abstracts('infection control', 100, 'ragorham1@gmail.com', \n",
    "#               '3ffbbb6bd110815d69e4aa14b7c26d72ab09')\n",
    "\n",
    "# get_abstracts('precision medicine', 100, 'ragorham1@gmail.com', \n",
    "#               '3ffbbb6bd110815d69e4aa14b7c26d72ab09')\n",
    "\n",
    "# get_abstracts('orthopedics', 100, 'ragorham1@gmail.com', \n",
    "#               '3ffbbb6bd110815d69e4aa14b7c26d72ab09')\n",
    "\n",
    "# get_abstracts('allograph', 100, 'ragorham1@gmail.com', \n",
    "#               '3ffbbb6bd110815d69e4aa14b7c26d72ab09')\n",
    "\n",
    "# get_abstracts('nosocomial', 100, 'ragorham1@gmail.com', \n",
    "#               '3ffbbb6bd110815d69e4aa14b7c26d72ab09')\n",
    "\n",
    "# get_abstracts('pediatric', 100, 'ragorham1@gmail.com', \n",
    "#               '3ffbbb6bd110815d69e4aa14b7c26d72ab09')\n",
    "\n",
    "# get_abstracts('geriatrics', 100, 'ragorham1@gmail.com', \n",
    "#               '3ffbbb6bd110815d69e4aa14b7c26d72ab09')\n",
    "\n",
    "# get_abstracts('imaging', 100, 'ragorham1@gmail.com', \n",
    "#               '3ffbbb6bd110815d69e4aa14b7c26d72ab09')"
   ]
  },
  {
   "cell_type": "code",
   "execution_count": 8,
   "metadata": {},
   "outputs": [],
   "source": [
    "# Get stop words and add a few more\n",
    "stop_words = stopwords.words('english')\n",
    "other_words = ['from', 'subject', 'patient', 'group', 'sub', 'sup']\n",
    "stop_words.extend(other_words)"
   ]
  },
  {
   "cell_type": "code",
   "execution_count": 9,
   "metadata": {},
   "outputs": [],
   "source": [
    "# Import Dataset\n",
    "# df = pd.read_csv('./data/gene therapy.csv', header=-1, names=['pmid', 'term',\n",
    "#                                                               'abstract'])\n",
    "# df = df.dropna()\n",
    "# df\n",
    "\n",
    "df = pd.concat([pd.read_csv(f, header=-1, names=['pmid', 'term',\n",
    "                        'abstract']) for f in glob.glob('./data/*.csv')])\n",
    "df = df.dropna()"
   ]
  },
  {
   "cell_type": "code",
   "execution_count": 10,
   "metadata": {},
   "outputs": [],
   "source": [
    "df_train, df_test = train_test_split(df)"
   ]
  },
  {
   "cell_type": "code",
   "execution_count": 11,
   "metadata": {},
   "outputs": [],
   "source": [
    "# Convert to list\n",
    "data = df_train.abstract.tolist()"
   ]
  },
  {
   "cell_type": "code",
   "execution_count": 12,
   "metadata": {},
   "outputs": [],
   "source": [
    "# Toeknize sentences to words\n",
    "def sent_to_words(sentences):\n",
    "    for sentence in sentences:\n",
    "        yield(gensim.utils.simple_preprocess(str(sentence), deacc=True))\n",
    "\n",
    "data_words = list(sent_to_words(data))"
   ]
  },
  {
   "cell_type": "code",
   "execution_count": 13,
   "metadata": {},
   "outputs": [
    {
     "name": "stderr",
     "output_type": "stream",
     "text": [
      "/usr/local/lib/python3.6/dist-packages/gensim/models/phrases.py:598: UserWarning: For a faster implementation, use the gensim.models.phrases.Phraser class\n",
      "  warnings.warn(\"For a faster implementation, use the gensim.models.phrases.Phraser class\")\n"
     ]
    }
   ],
   "source": [
    "# Make bigram and trigram models - threshold is a hyperparameter\n",
    "bigram = gensim.models.Phrases(data_words, min_count=5, threshold=1)\n",
    "trigram = gensim.models.Phrases(bigram[data_words], threshold=1)  \n",
    "\n",
    "\n",
    "bigram_mod = gensim.models.phrases.Phraser(bigram)\n",
    "trigram_mod = gensim.models.phrases.Phraser(trigram)"
   ]
  },
  {
   "cell_type": "code",
   "execution_count": 25,
   "metadata": {
    "scrolled": false
   },
   "outputs": [],
   "source": [
    "# Remove stop words\n",
    "data_words_stops = [[word for word in simple_preprocess(str(doc)) \\\n",
    "                       if word not in stop_words] for doc in data_words]\n"
   ]
  },
  {
   "cell_type": "code",
   "execution_count": 15,
   "metadata": {},
   "outputs": [],
   "source": [
    "# Form the bigram groups\n",
    "data_words_bigrams = [bigram_mod[doc] for doc in data_words_stops]"
   ]
  },
  {
   "cell_type": "code",
   "execution_count": 16,
   "metadata": {},
   "outputs": [],
   "source": [
    "# Form the trigram groups\n",
    "data_words_trigrams = [trigram_mod[bigram_mod[doc]] for doc in data_words_stops]"
   ]
  },
  {
   "cell_type": "code",
   "execution_count": 17,
   "metadata": {},
   "outputs": [],
   "source": [
    "# Spacy en model\n",
    "nlp = spacy.load('en')"
   ]
  },
  {
   "cell_type": "code",
   "execution_count": 18,
   "metadata": {},
   "outputs": [],
   "source": [
    "def lemmatization(texts, allowed_postags=['NOUN', 'ADJ', 'VERB', 'ADV']):\n",
    "    texts_out = []\n",
    "    for sent in texts:\n",
    "        doc = nlp(\" \".join(sent)) \n",
    "        texts_out.append([token.lemma_ for token in doc if token.pos_ in allowed_postags])\n",
    "    return texts_out"
   ]
  },
  {
   "cell_type": "code",
   "execution_count": 19,
   "metadata": {},
   "outputs": [],
   "source": [
    "data_lemmatized = lemmatization(data_words_bigrams, allowed_postags=['NOUN', 'ADJ', 'VERB', 'ADV'])"
   ]
  },
  {
   "cell_type": "code",
   "execution_count": 20,
   "metadata": {},
   "outputs": [],
   "source": [
    "# Create Dictionary\n",
    "id2word = corpora.Dictionary(data_lemmatized)\n",
    "\n",
    "# Create Corpus\n",
    "texts = data_lemmatized\n",
    "\n",
    "# Term Document Frequency\n",
    "corpus = [id2word.doc2bow(text) for text in texts]\n"
   ]
  },
  {
   "cell_type": "code",
   "execution_count": 21,
   "metadata": {},
   "outputs": [],
   "source": [
    "# Build LDA model\n",
    "lda_model = gensim.models.ldamodel.LdaModel(corpus=corpus,\n",
    "                                           id2word=id2word,\n",
    "                                           num_topics=10, \n",
    "                                           random_state=100,\n",
    "                                           update_every=1,\n",
    "                                           chunksize=100,\n",
    "                                           passes=10,\n",
    "                                           alpha='auto',\n",
    "                                           per_word_topics=True)\n",
    "ldamallet = gensim.models.wrappers.LdaMallet(mallet_path, corpus=corpus, \n",
    "                                             num_topics=10, id2word=id2word)"
   ]
  },
  {
   "cell_type": "code",
   "execution_count": 22,
   "metadata": {},
   "outputs": [],
   "source": [
    "doc_lda = lda_model[corpus]"
   ]
  },
  {
   "cell_type": "code",
   "execution_count": 23,
   "metadata": {},
   "outputs": [
    {
     "data": {
      "text/html": [
       "\n",
       "<link rel=\"stylesheet\" type=\"text/css\" href=\"https://cdn.rawgit.com/bmabey/pyLDAvis/files/ldavis.v1.0.0.css\">\n",
       "\n",
       "\n",
       "<div id=\"ldavis_el59381396993505131288460934920\"></div>\n",
       "<script type=\"text/javascript\">\n",
       "\n",
       "var ldavis_el59381396993505131288460934920_data = {\"mdsDat\": {\"Freq\": [17.973278851279712, 16.385472955797866, 9.855928106488761, 9.765213719443116, 9.02535083098859, 8.106473563530132, 7.83362806039676, 7.490037106012322, 6.821464660410939, 6.743152145651806], \"cluster\": [1, 1, 1, 1, 1, 1, 1, 1, 1, 1], \"topics\": [1, 2, 3, 4, 5, 6, 7, 8, 9, 10], \"x\": [0.13541561672087463, 0.026530298101310044, 0.05553034258872663, 0.1332100685352145, -0.20511987465099388, 0.07306329880965941, -0.1779167155826315, 0.06890956318582368, 0.0375722255522684, -0.14719482326025166], \"y\": [-0.17235912576048773, -0.21040416227300104, 0.07014033607316211, 0.01975165300613338, -0.0056536779516677994, 0.09104966792141406, -0.09691394816472162, 0.03030891863981267, 0.1926540323588506, 0.08142630615050506]}, \"tinfo\": {\"Category\": [\"Default\", \"Default\", \"Default\", \"Default\", \"Default\", \"Default\", \"Default\", \"Default\", \"Default\", \"Default\", \"Default\", \"Default\", \"Default\", \"Default\", \"Default\", \"Default\", \"Default\", \"Default\", \"Default\", \"Default\", \"Default\", \"Default\", \"Default\", \"Default\", \"Default\", \"Default\", \"Default\", \"Default\", \"Default\", \"Default\", \"Topic1\", \"Topic1\", \"Topic1\", \"Topic1\", \"Topic1\", \"Topic1\", \"Topic1\", \"Topic1\", \"Topic1\", \"Topic1\", \"Topic1\", \"Topic1\", \"Topic1\", \"Topic1\", \"Topic1\", \"Topic1\", \"Topic1\", \"Topic1\", \"Topic1\", \"Topic1\", \"Topic1\", \"Topic1\", \"Topic1\", \"Topic1\", \"Topic1\", \"Topic1\", \"Topic1\", \"Topic1\", \"Topic1\", \"Topic1\", \"Topic1\", \"Topic1\", \"Topic1\", \"Topic1\", \"Topic1\", \"Topic1\", \"Topic1\", \"Topic1\", \"Topic1\", \"Topic1\", \"Topic1\", \"Topic1\", \"Topic1\", \"Topic1\", \"Topic1\", \"Topic1\", \"Topic1\", \"Topic1\", \"Topic1\", \"Topic1\", \"Topic1\", \"Topic1\", \"Topic1\", \"Topic1\", \"Topic1\", \"Topic1\", \"Topic1\", \"Topic1\", \"Topic1\", \"Topic1\", \"Topic1\", \"Topic2\", \"Topic2\", \"Topic2\", \"Topic2\", \"Topic2\", \"Topic2\", \"Topic2\", \"Topic2\", \"Topic2\", \"Topic2\", \"Topic2\", \"Topic2\", \"Topic2\", \"Topic2\", \"Topic2\", \"Topic2\", \"Topic2\", \"Topic2\", \"Topic2\", \"Topic2\", \"Topic2\", \"Topic2\", \"Topic2\", \"Topic2\", \"Topic2\", \"Topic2\", \"Topic2\", \"Topic2\", \"Topic2\", \"Topic2\", \"Topic2\", \"Topic2\", \"Topic2\", \"Topic2\", \"Topic2\", \"Topic2\", \"Topic2\", \"Topic2\", \"Topic2\", \"Topic2\", \"Topic2\", \"Topic2\", \"Topic2\", \"Topic2\", \"Topic2\", \"Topic2\", \"Topic2\", \"Topic2\", \"Topic2\", \"Topic2\", \"Topic2\", \"Topic2\", \"Topic2\", \"Topic2\", \"Topic2\", \"Topic2\", \"Topic2\", \"Topic2\", \"Topic2\", \"Topic2\", \"Topic2\", \"Topic2\", \"Topic2\", \"Topic2\", \"Topic2\", \"Topic2\", \"Topic2\", \"Topic2\", \"Topic3\", \"Topic3\", \"Topic3\", \"Topic3\", \"Topic3\", \"Topic3\", \"Topic3\", \"Topic3\", \"Topic3\", \"Topic3\", \"Topic3\", \"Topic3\", \"Topic3\", \"Topic3\", \"Topic3\", \"Topic3\", \"Topic3\", \"Topic3\", \"Topic3\", \"Topic3\", \"Topic3\", \"Topic3\", \"Topic3\", \"Topic3\", \"Topic3\", \"Topic3\", \"Topic3\", \"Topic3\", \"Topic3\", \"Topic3\", \"Topic3\", \"Topic3\", \"Topic3\", \"Topic3\", \"Topic3\", \"Topic3\", \"Topic3\", \"Topic3\", \"Topic3\", \"Topic3\", \"Topic3\", \"Topic3\", \"Topic3\", \"Topic3\", \"Topic3\", \"Topic3\", \"Topic3\", \"Topic3\", \"Topic3\", \"Topic3\", \"Topic3\", \"Topic3\", \"Topic3\", \"Topic3\", \"Topic3\", \"Topic3\", \"Topic3\", \"Topic3\", \"Topic3\", \"Topic3\", \"Topic3\", \"Topic3\", \"Topic4\", \"Topic4\", \"Topic4\", \"Topic4\", \"Topic4\", \"Topic4\", \"Topic4\", \"Topic4\", \"Topic4\", \"Topic4\", \"Topic4\", \"Topic4\", \"Topic4\", \"Topic4\", \"Topic4\", \"Topic4\", \"Topic4\", \"Topic4\", \"Topic4\", \"Topic4\", \"Topic4\", \"Topic4\", \"Topic4\", \"Topic4\", \"Topic4\", \"Topic4\", \"Topic4\", \"Topic4\", \"Topic4\", \"Topic4\", \"Topic4\", \"Topic4\", \"Topic4\", \"Topic4\", \"Topic4\", \"Topic4\", \"Topic4\", \"Topic4\", \"Topic4\", \"Topic4\", \"Topic4\", \"Topic4\", \"Topic4\", \"Topic4\", \"Topic4\", \"Topic4\", \"Topic4\", \"Topic4\", \"Topic4\", \"Topic4\", \"Topic4\", \"Topic4\", \"Topic4\", \"Topic5\", \"Topic5\", \"Topic5\", \"Topic5\", \"Topic5\", \"Topic5\", \"Topic5\", \"Topic5\", \"Topic5\", \"Topic5\", \"Topic5\", \"Topic5\", \"Topic5\", \"Topic5\", \"Topic5\", \"Topic5\", \"Topic5\", \"Topic5\", \"Topic5\", \"Topic5\", \"Topic5\", \"Topic5\", \"Topic5\", \"Topic5\", \"Topic5\", \"Topic5\", \"Topic5\", \"Topic5\", \"Topic5\", \"Topic5\", \"Topic5\", \"Topic5\", \"Topic5\", \"Topic5\", \"Topic5\", \"Topic5\", \"Topic5\", \"Topic5\", \"Topic5\", \"Topic5\", \"Topic5\", \"Topic5\", \"Topic5\", \"Topic5\", \"Topic5\", \"Topic5\", \"Topic5\", \"Topic5\", \"Topic5\", \"Topic5\", \"Topic5\", \"Topic5\", \"Topic5\", \"Topic5\", \"Topic5\", \"Topic5\", \"Topic5\", \"Topic5\", \"Topic5\", \"Topic5\", \"Topic6\", \"Topic6\", \"Topic6\", \"Topic6\", \"Topic6\", \"Topic6\", \"Topic6\", \"Topic6\", \"Topic6\", \"Topic6\", \"Topic6\", \"Topic6\", \"Topic6\", \"Topic6\", \"Topic6\", \"Topic6\", \"Topic6\", \"Topic6\", \"Topic6\", \"Topic6\", \"Topic6\", \"Topic6\", \"Topic6\", \"Topic6\", \"Topic6\", \"Topic6\", \"Topic6\", \"Topic6\", \"Topic6\", \"Topic6\", \"Topic6\", \"Topic6\", \"Topic6\", \"Topic6\", \"Topic6\", \"Topic6\", \"Topic6\", \"Topic6\", \"Topic6\", \"Topic6\", \"Topic6\", \"Topic6\", \"Topic6\", \"Topic6\", \"Topic6\", \"Topic6\", \"Topic6\", \"Topic6\", \"Topic6\", \"Topic6\", \"Topic6\", \"Topic6\", \"Topic6\", \"Topic6\", \"Topic6\", \"Topic6\", \"Topic7\", \"Topic7\", \"Topic7\", \"Topic7\", \"Topic7\", \"Topic7\", \"Topic7\", \"Topic7\", \"Topic7\", \"Topic7\", \"Topic7\", \"Topic7\", \"Topic7\", \"Topic7\", \"Topic7\", \"Topic7\", \"Topic7\", \"Topic7\", \"Topic7\", \"Topic7\", \"Topic7\", \"Topic7\", \"Topic7\", \"Topic7\", \"Topic7\", \"Topic7\", \"Topic7\", \"Topic7\", \"Topic7\", \"Topic7\", \"Topic7\", \"Topic7\", \"Topic7\", \"Topic7\", \"Topic7\", \"Topic7\", \"Topic7\", \"Topic7\", \"Topic7\", \"Topic7\", \"Topic7\", \"Topic7\", \"Topic7\", \"Topic7\", \"Topic7\", \"Topic7\", \"Topic7\", \"Topic7\", \"Topic7\", \"Topic7\", \"Topic7\", \"Topic8\", \"Topic8\", \"Topic8\", \"Topic8\", \"Topic8\", \"Topic8\", \"Topic8\", \"Topic8\", \"Topic8\", \"Topic8\", \"Topic8\", \"Topic8\", \"Topic8\", \"Topic8\", \"Topic8\", \"Topic8\", \"Topic8\", \"Topic8\", \"Topic8\", \"Topic8\", \"Topic8\", \"Topic8\", \"Topic8\", \"Topic8\", \"Topic8\", \"Topic8\", \"Topic8\", \"Topic8\", \"Topic8\", \"Topic8\", \"Topic8\", \"Topic8\", \"Topic8\", \"Topic8\", \"Topic8\", \"Topic8\", \"Topic8\", \"Topic8\", \"Topic8\", \"Topic8\", \"Topic8\", \"Topic8\", \"Topic8\", \"Topic8\", \"Topic8\", \"Topic8\", \"Topic8\", \"Topic8\", \"Topic8\", \"Topic8\", \"Topic8\", \"Topic8\", \"Topic8\", \"Topic8\", \"Topic9\", \"Topic9\", \"Topic9\", \"Topic9\", \"Topic9\", \"Topic9\", \"Topic9\", \"Topic9\", \"Topic9\", \"Topic9\", \"Topic9\", \"Topic9\", \"Topic9\", \"Topic9\", \"Topic9\", \"Topic9\", \"Topic9\", \"Topic9\", \"Topic9\", \"Topic9\", \"Topic9\", \"Topic9\", \"Topic9\", \"Topic9\", \"Topic9\", \"Topic9\", \"Topic9\", \"Topic9\", \"Topic9\", \"Topic9\", \"Topic9\", \"Topic9\", \"Topic9\", \"Topic9\", \"Topic9\", \"Topic9\", \"Topic9\", \"Topic9\", \"Topic9\", \"Topic9\", \"Topic9\", \"Topic9\", \"Topic9\", \"Topic9\", \"Topic9\", \"Topic10\", \"Topic10\", \"Topic10\", \"Topic10\", \"Topic10\", \"Topic10\", \"Topic10\", \"Topic10\", \"Topic10\", \"Topic10\", \"Topic10\", \"Topic10\", \"Topic10\", \"Topic10\", \"Topic10\", \"Topic10\", \"Topic10\", \"Topic10\", \"Topic10\", \"Topic10\", \"Topic10\", \"Topic10\", \"Topic10\", \"Topic10\", \"Topic10\", \"Topic10\", \"Topic10\", \"Topic10\", \"Topic10\", \"Topic10\", \"Topic10\", \"Topic10\", \"Topic10\", \"Topic10\", \"Topic10\", \"Topic10\", \"Topic10\", \"Topic10\", \"Topic10\", \"Topic10\", \"Topic10\", \"Topic10\", \"Topic10\", \"Topic10\", \"Topic10\", \"Topic10\", \"Topic10\"], \"Freq\": [328.0, 244.0, 173.0, 95.0, 123.0, 149.0, 68.0, 186.0, 128.0, 94.0, 113.0, 123.0, 62.0, 65.0, 163.0, 101.0, 199.0, 156.0, 93.0, 81.0, 64.0, 83.0, 127.0, 355.0, 95.0, 128.0, 43.0, 48.0, 35.0, 34.0, 55.32561168483871, 53.440447468732735, 51.422783655618844, 40.05753405791578, 38.81424315993421, 33.551417187432904, 30.9774142268848, 30.960695813686318, 27.871854344796127, 27.244569958442245, 26.96519566257153, 25.310678974754616, 25.301737798075678, 24.885891518516704, 24.007570811195393, 23.780428329977223, 21.444576784654835, 21.402857906782828, 21.234778775357245, 21.050448570342628, 20.604650671568493, 20.574923904429575, 20.01418911934798, 19.959854276452905, 18.823575331307197, 18.803660491534636, 18.47906116850497, 17.621002499015127, 17.30723795985552, 17.267679425461164, 55.30743393757675, 23.0025371411813, 43.46340813658355, 31.043181254754472, 123.39354644186385, 59.36305997476599, 34.4960560306539, 129.5693247502925, 30.80699619297984, 25.669851508939136, 173.11243192574446, 35.47297437340884, 36.26520759757783, 74.07090322269858, 70.78934588900908, 63.283166342942835, 38.34773241696005, 29.963911128665462, 57.984637387825146, 44.867547628636935, 59.959495538031845, 92.87873009094011, 45.0148036942565, 50.54402206187352, 58.5074316916885, 41.69724798404654, 60.41533682954495, 36.47978922457593, 38.2507594479989, 35.28493631356829, 35.89016535656104, 45.52014763372811, 37.66865063821407, 34.88230819081241, 30.025515969816176, 27.333285149807942, 26.87749419211195, 25.939109082661883, 24.582550334731483, 23.448988453853577, 22.315265798024434, 22.119544401449282, 22.00840268734609, 21.65708329296385, 21.60556295983998, 21.51627860035745, 21.390665130956044, 20.321847322941245, 19.897166318309598, 19.857344372575103, 18.54609803496394, 18.259990970490282, 18.249060283493062, 17.99390239713251, 17.931473483567213, 17.741612333964646, 17.475292646614474, 17.151767221927315, 16.952985072217988, 17.023394452425308, 16.643701293680085, 22.94251520246704, 115.81864939592536, 32.23423622084829, 38.58043754166888, 30.590776582122494, 36.37663901383151, 79.2922203794002, 23.09572569224826, 25.8695136256452, 57.34860597802881, 44.61167269426878, 106.32287079974734, 71.95103513723348, 46.748403951197666, 44.66842625205541, 28.56141083762962, 52.567195102606895, 41.399292703584415, 58.01585418065226, 51.579743487726205, 61.07653898547081, 103.72059155526927, 34.68680183073454, 50.47992224005226, 49.783746604327504, 35.706247660911366, 35.85124255068438, 45.409936404655205, 69.64912369540377, 39.64501290065791, 45.731711392060774, 38.46787899830791, 40.04714722806547, 40.59285760630138, 41.18016448379606, 39.19690497594415, 38.69996165979218, 38.18204123187757, 36.789501043466025, 23.058562010192592, 22.225972223776076, 21.83951016397274, 21.782963290881632, 21.73351953092669, 19.86685742201986, 18.619703793792464, 16.01623996601667, 15.581037688097267, 14.198519950633285, 14.157075050382558, 14.03940586457809, 13.833015459318993, 12.495484507995624, 12.407999926515517, 12.294912224507177, 12.10300728635336, 11.725823033445877, 11.687327690045427, 11.256373257524334, 11.172889919148497, 10.525810334927616, 9.994844166156156, 10.009653600981057, 9.819033654192749, 9.71750724796968, 9.58373517413138, 9.280870083172703, 9.256831194842938, 55.25000129742997, 25.25669991150579, 33.812140993369944, 18.4975184012697, 33.41353256175038, 34.01305175059531, 11.442516889141912, 30.430846385636954, 63.8933440087715, 47.2542217042192, 20.154338881635653, 42.10766567498588, 19.458707657523558, 17.149920273942598, 27.24374866679062, 50.622373860281606, 21.324669851095834, 19.749002075660087, 38.17876891431195, 28.23145129615806, 19.95246951843395, 17.790144556156132, 30.2721747331093, 24.314652553909372, 32.38343367916452, 25.20140780891083, 22.476159921757475, 23.713378136971578, 23.490906602704595, 22.26112272135492, 21.373066760135885, 22.968078309636443, 33.21195903938007, 32.16491977942497, 28.873111093418416, 27.394879966899904, 23.370761097941003, 23.08946485900358, 22.561699352013008, 22.48115584358651, 23.087174840146343, 17.981842491539076, 17.79638330223529, 17.188952207227402, 16.770555461716214, 16.452841694863967, 16.259617760658788, 16.03802609808873, 15.47509107555218, 15.266074155650598, 15.266074155650598, 15.13457413452476, 14.948771202850669, 14.647373820356233, 33.14222604884343, 14.099755095490368, 13.903048224655041, 13.640862624256357, 13.580368757916757, 12.777658460733491, 12.527330175547487, 12.095617305739875, 28.863258742414427, 17.493266010180715, 20.680278786170717, 141.92125497330917, 18.64572039550236, 35.487825771712544, 37.39641276418655, 25.78834789894576, 32.611516574096015, 63.17070195949934, 23.049317666485496, 19.673116036588446, 35.757978529767264, 28.655417972365253, 27.556534697632777, 29.202682175483346, 21.75000264714886, 19.388750070490406, 23.27158842983592, 23.210234608716245, 21.35575769570471, 20.474311232383425, 19.391674874909537, 38.513461685926316, 28.886286250781595, 28.88626189757284, 19.63234809300555, 19.37572504879289, 17.862928074183426, 17.486021211041088, 16.859190650021603, 16.1421325575314, 16.03561826422422, 15.831667889655048, 15.795567578568875, 15.753859387685003, 15.528830203974936, 14.526567255906782, 14.402213130223029, 12.630690986699793, 12.064368186758477, 23.151776409344535, 11.847404343002227, 11.280424006424543, 11.25065995747063, 11.105098614818003, 10.960122856139515, 10.952211384186464, 10.892977738711759, 10.804167121204932, 10.55938416430301, 10.490045044159295, 10.280161342366345, 85.87893395841935, 19.882951466799753, 23.425497620030793, 17.012755342642123, 13.874878710533341, 12.819358615811597, 49.39389973605767, 21.875019589694194, 19.870088544721337, 18.750883702143017, 24.03721037323402, 28.09214803865591, 73.04008170596396, 34.78693368234061, 25.09344667368595, 30.17417470076073, 40.388317815086225, 26.43673424572502, 21.76819534645741, 24.771878049581662, 33.521970457511564, 21.325020081402474, 20.168433063386278, 22.813149469471885, 25.342557859961936, 22.33682727337425, 21.407322857351726, 20.752524850005972, 20.66193091343991, 19.76139574619468, 23.870242358220047, 23.146088614390514, 20.069734705187106, 19.260316921804396, 18.40159163516219, 18.325759176830168, 16.966923450812402, 16.336123072365197, 15.757051228199364, 14.388260938489186, 14.107263252094302, 13.54550252543232, 34.14869923656493, 12.509927633919041, 12.349970561722165, 11.707447819518116, 11.564519494061145, 11.43582901839196, 11.298689293595917, 11.261786218685057, 11.055456708352537, 10.414852894227428, 10.359746847674472, 10.273192254418461, 10.057067262514066, 9.803246767885897, 9.53184173335921, 9.00019127506129, 8.951885989161159, 8.833891797571376, 12.62416947599073, 32.59707387719859, 13.14910169748585, 26.890670947949744, 32.12249810669523, 54.73620050798036, 27.719437094242398, 14.014894207332777, 14.272803112458666, 13.610294684599287, 43.99705572825473, 19.025881577826542, 70.53854738721199, 17.582935157629468, 22.66942290252864, 18.419130438951058, 23.964906162570273, 22.875450156832148, 21.70332712715856, 20.158979774806646, 19.681466950652933, 17.89106131689166, 18.971815530636576, 18.6401551601679, 16.709900434245235, 16.11069973051559, 68.12425701404196, 34.57129796487459, 30.708943284487688, 24.151339052787463, 22.89470670936143, 20.612763895523926, 18.33091139675564, 16.049013740452743, 16.049013740452743, 16.049007014862482, 15.620464893849562, 14.049956939357955, 13.873302585577402, 13.767117044948458, 13.767114162552632, 13.767108397760982, 13.756547299454883, 13.330344723053983, 12.568376660887017, 11.91529206184204, 11.749883855775542, 11.485219388645564, 11.485216506249738, 11.485179035104002, 10.907999447738277, 10.901626470567212, 10.728145634590977, 9.931973141956664, 9.64160923364296, 9.530242106117656, 39.05447650942438, 11.605565179168547, 23.630697659546772, 127.51046574756222, 50.92863678283083, 31.503900366882082, 24.237564963120658, 22.209599653489306, 21.888960020218956, 19.927993119164828, 28.720603231073596, 32.664351004792266, 21.88283396829031, 20.422083803654548, 19.938381273721372, 20.215306491896122, 15.252691363235485, 17.16021480248299, 18.837392540102293, 15.733407731093024, 15.755853908187918, 24.038997391542278, 23.165606299352984, 20.053113714175314, 17.603112459743297, 16.84676745554974, 16.479174207431136, 16.368452154203176, 15.16061663297728, 15.100327930231057, 14.455855137825786, 14.087567385017401, 14.033584343899015, 13.65278723876163, 12.422348162123011, 11.717221960143682, 11.444326631253277, 10.53260090123356, 10.512553049586662, 10.43153852632971, 9.532158627693516, 9.168868368949152, 8.863414917425853, 8.701482329896638, 8.639688866989227, 8.640670911319086, 8.611243571732182, 8.431084829381247, 8.263903035770817, 8.147710380125348, 7.96424722855598, 24.997509403765395, 17.416623252025605, 21.228153180606075, 16.96051189029804, 16.452808751615443, 27.960207616316044, 15.383332160717138, 87.07269868978133, 18.36338931588428, 28.520546126302335, 36.77410049100124, 35.39550133253337, 46.52988136089072, 21.262009365575818, 20.219728696418553, 33.133576725109975, 21.985560152288233, 30.387363708545106, 25.716323595000958, 31.816277710742092, 21.117633231917466, 22.536803958003606, 19.579046282783164, 15.895097600640748, 34.07290546422574, 32.480648251447725, 27.946739511517745, 27.15277617146332, 26.662353386555328, 26.394954707421746, 24.98570767935255, 20.62774105226334, 18.974933354490588, 20.980237710308437, 17.075942906375726, 16.822822602538114, 16.719413565280906, 16.630736370998704, 15.748298307470796, 15.225973820345802, 14.114524539030247, 13.684387019090689, 13.50739406601954, 13.457613020073781, 12.193954216661957, 11.856539960554073, 11.611106017541733, 11.544119972792133, 11.335728984557077, 10.911045626609459, 10.472048753804025, 10.343560945921201, 10.17507260347255, 10.07128707090987, 19.250966325963, 47.977392475551675, 12.998029383965132, 16.151190117137688, 27.306787851088448, 32.13201694520547, 41.58050966508453, 20.253154996318077, 17.966593587500334, 18.350652265331274, 15.178604017667533, 26.704641339265958, 21.916844245075204, 17.584956192811696, 21.205152659172544, 34.27593127189747, 20.982741234156418, 19.259194729808936, 19.123047221426997, 15.975710636318453, 15.624534787814211, 15.22509884983553, 14.841701088013423, 14.787989077271241, 14.706632054348285, 14.655035640481541, 14.244495713585879, 14.233004664724522, 14.034198106117017, 13.775107788224625, 13.699468997043962, 13.354634976859057, 12.988083420179956, 12.988083420179956, 12.335312613353521, 12.269969782103404, 11.890417808190128, 11.131503255079945, 10.80131713804629, 10.197892338871558, 9.011576766801769, 8.919281165194466, 8.865352467047527, 8.805406971688386, 8.431986755098997, 24.03345012366487, 12.479129367171716, 17.3192436722036, 14.651963972461456, 36.382817644485634, 16.50164239560465, 25.42177459644604, 28.7849367989982, 16.98459396004221, 21.05453423742825, 18.656762392030032, 16.388041956033586, 22.451885146604468, 18.213122223481196, 14.394502945360546, 14.501346376928353, 14.713754618965673], \"Term\": [\"patient\", \"cell\", \"model\", \"protein\", \"cancer\", \"infection\", \"cd\", \"disease\", \"drug\", \"image\", \"gene\", \"method\", \"strain\", \"isolate\", \"effect\", \"new\", \"treatment\", \"base\", \"approach\", \"activity\", \"mouse\", \"population\", \"control\", \"use\", \"age\", \"clinical\", \"antibiotic\", \"survival\", \"mir\", \"s\", \"care\", \"hospital\", \"transplant\", \"community\", \"transmission\", \"rare\", \"healthcare\", \"presence\", \"cost\", \"burden\", \"natural\", \"muscle\", \"cpr\", \"faculty\", \"pathogen\", \"alteration\", \"worldwide\", \"still\", \"decision\", \"acquire\", \"gut\", \"load\", \"issue\", \"geriatric\", \"older_adult\", \"hepatitis\", \"survey\", \"access\", \"order\", \"morbidity\", \"health\", \"alternative\", \"individual\", \"trial\", \"infection\", \"life\", \"program\", \"disease\", \"impact\", \"syndrome\", \"patient\", \"characteristic\", \"adult\", \"associate\", \"control\", \"may\", \"outcome\", \"mortality\", \"clinical\", \"type\", \"include\", \"study\", \"population\", \"development\", \"high\", \"human\", \"use\", \"well\", \"report\", \"case\", \"increase\", \"vector\", \"pediatric\", \"technology\", \"regulatory\", \"successful\", \"status\", \"ability\", \"gene_therapy\", \"genomic\", \"select\", \"gain\", \"preclinical\", \"medication\", \"express\", \"aav\", \"publish\", \"metastasis\", \"inclusion\", \"isolation\", \"perspective\", \"significance\", \"etec\", \"setting\", \"symptom\", \"evaluation\", \"criterion\", \"hold\", \"food\", \"biology\", \"cerna\", \"positive\", \"drug\", \"phase\", \"combination\", \"available\", \"future\", \"new\", \"genome\", \"successfully\", \"therapeutic\", \"response\", \"treatment\", \"cancer\", \"research\", \"review\", \"discuss\", \"describe\", \"need\", \"different\", \"approach\", \"clinical\", \"use\", \"application\", \"therapy\", \"report\", \"efficacy\", \"process\", \"develop\", \"study\", \"improve\", \"base\", \"important\", \"provide\", \"system\", \"method\", \"may\", \"however\", \"also\", \"weight\", \"motion\", \"long\", \"rat\", \"fracture\", \"injection\", \"healing\", \"genotype\", \"hand\", \"term\", \"fixation\", \"height\", \"disability\", \"average\", \"burst\", \"ml\", \"dopa\", \"significantly_higher\", \"disc\", \"session\", \"provider\", \"deposition\", \"policy\", \"perfusion\", \"beneficial\", \"later\", \"heal\", \"esrd\", \"wind\", \"cerebral\", \"mouse\", \"healthy\", \"decrease\", \"lipid\", \"brain\", \"tissue\", \"percentage\", \"significant\", \"effect\", \"level\", \"male\", \"age\", \"concentration\", \"inflammation\", \"stage\", \"model\", \"body\", \"cardiac\", \"control\", \"find\", \"day\", \"subject\", \"increase\", \"expression\", \"study\", \"also\", \"change\", \"compare\", \"associate\", \"low\", \"test\", \"use\", \"ad\", \"intervention\", \"hypertension\", \"cholesterol\", \"egfr\", \"safety\", \"complication\", \"highlight\", \"cluster\", \"postoperative\", \"ltc\", \"coronary\", \"spinal\", \"chinese\", \"internal\", \"man\", \"commonly\", \"abp\", \"fluoride_exposure\", \"demographic\", \"infant\", \"hormone\", \"serum\", \"blood_pressure\", \"carboplatin\", \"shbg\", \"stat\", \"converter\", \"lower\", \"avibactam\", \"surgery\", \"recommend\", \"guideline\", \"patient\", \"severe\", \"year\", \"population\", \"blood\", \"follow\", \"study\", \"acute\", \"predict\", \"high\", \"non\", \"low\", \"compare\", \"old\", \"receive\", \"include\", \"treatment\", \"level\", \"datum\", \"risk\", \"association\", \"_\", \"sirtuin\", \"dna\", \"memory\", \"member\", \"action\", \"efflux\", \"membrane\", \"protect\", \"epithelial_cell\", \"gan\", \"distinct\", \"neuron\", \"product\", \"fluorescence\", \"discovery\", \"putative\", \"rna\", \"autophagy\", \"copyright\", \"embryo\", \"recruitment\", \"motility\", \"intracellular\", \"metabolism\", \"microscopy\", \"permeas\", \"overview\", \"arrest\", \"protein\", \"apoptosis\", \"compound\", \"regulation\", \"important_role\", \"rights_reserv\", \"activity\", \"bind\", \"importance\", \"phenotype\", \"play\", \"know\", \"cell\", \"mechanism\", \"interaction\", \"role\", \"gene\", \"receptor\", \"form\", \"demonstrate\", \"show\", \"mediate\", \"previously\", \"function\", \"also\", \"datum\", \"induce\", \"well\", \"increase\", \"target\", \"allograph\", \"map\", \"frequency\", \"monitor\", \"movement\", \"la\", \"letter\", \"diversity\", \"scan\", \"registration\", \"noise\", \"stent\", \"region\", \"simulation\", \"assist\", \"service\", \"external\", \"epidemiological\", \"diffusion\", \"spatial\", \"writer\", \"deformation\", \"st\", \"suvr\", \"intensity\", \"segment\", \"computer\", \"displacement\", \"final\", \"compute\", \"probe\", \"technique\", \"write\", \"dynamic\", \"propose\", \"image\", \"pattern\", \"size\", \"error\", \"parameter\", \"method\", \"accuracy\", \"use\", \"live\", \"perform\", \"field\", \"time\", \"present\", \"compare\", \"different\", \"base\", \"system\", \"model\", \"study\", \"result\", \"high\", \"cd\", \"antibody\", \"kinase\", \"mutant\", \"neg\", \"doxorubicin\", \"sporulation\", \"cpe_production\", \"perfringens_sporulation\", \"cit\", \"pump\", \"candidate\", \"spore\", \"epcam\", \"spo\", \"cik\", \"rapid\", \"pfs\", \"squamous_cell\", \"leukemia\", \"glioma\", \"ctcs\", \"perfringen\", \"hmg_cr\", \"reg\", \"mab\", \"prognostic\", \"overall_survival\", \"aml\", \"bone_marrow\", \"survival\", \"anti_cancer\", \"inhibitor\", \"cell\", \"cancer\", \"tumor\", \"molecular\", \"indicate\", \"chemotherapy\", \"challenge\", \"therapy\", \"treatment\", \"potential\", \"factor\", \"target\", \"however\", \"progression\", \"type\", \"disease\", \"efficacy\", \"show\", \"dementia\", \"capsule\", \"self\", \"biosensor\", \"collection\", \"metric\", \"nerve\", \"integrate\", \"qsar\", \"leadership\", \"algorithm\", \"conference\", \"conventional\", \"linear\", \"relapse\", \"lifestyle\", \"learning\", \"channel\", \"differentiate\", \"third\", \"terminal\", \"treatment_option\", \"machine\", \"train\", \"possibility\", \"opinion\", \"able\", \"tailor\", \"film\", \"segmentation\", \"network\", \"interest\", \"paper\", \"formation\", \"statistical\", \"design\", \"decline\", \"model\", \"detection\", \"medical\", \"image\", \"approach\", \"base\", \"challenge\", \"set\", \"method\", \"good\", \"develop\", \"datum\", \"use\", \"improve\", \"analysis\", \"new\", \"development\", \"s\", \"antimicrobial\", \"grow\", \"baumannii\", \"equation\", \"estimate\", \"bacterial\", \"filter\", \"pd\", \"nosocomial_infection\", \"sepsis\", \"oral\", \"refractory\", \"concern\", \"outbreak\", \"multidrug_resistant\", \"beta\", \"creatinine\", \"peripheral\", \"phage\", \"gfr\", \"diagnose\", \"acinetobacter_baumannii\", \"stool\", \"european\", \"hydrogen\", \"disparity\", \"united_state\", \"breast_cancer\", \"space\", \"solution\", \"strain\", \"iii\", \"validation\", \"bacteria\", \"antibiotic\", \"isolate\", \"part\", \"determine\", \"sample\", \"structural\", \"use\", \"infection\", \"agent\", \"study\", \"mir\", \"stress\", \"release\", \"composite\", \"word\", \"pcr\", \"intestinal\", \"hour\", \"organ\", \"biofilm\", \"modification\", \"differentiation\", \"bps\", \"frequently\", \"wound\", \"trigger\", \"migration\", \"multocida\", \"marjoram\", \"rxfp\", \"compartment\", \"history\", \"real_time\", \"ed\", \"ifn\", \"regeneration\", \"synergistic\", \"proliferation\", \"prepare\", \"hbv\", \"extract\", \"antibacterial\", \"assay\", \"gene_expression\", \"gene\", \"detect\", \"target\", \"effect\", \"obtain\", \"expression\", \"activity\", \"group\", \"cell\", \"show\", \"promote\", \"factor\", \"study\"], \"Total\": [328.0, 244.0, 173.0, 95.0, 123.0, 149.0, 68.0, 186.0, 128.0, 94.0, 113.0, 123.0, 62.0, 65.0, 163.0, 101.0, 199.0, 156.0, 93.0, 81.0, 64.0, 83.0, 127.0, 355.0, 95.0, 128.0, 43.0, 48.0, 35.0, 34.0, 56.09296280640258, 54.210492425330926, 52.19010265480706, 40.82482516549634, 39.5815073875783, 34.31871742992235, 31.744638783391213, 31.72822544017137, 28.63991126535288, 28.020531072304347, 27.734678175776587, 26.078178434398726, 26.06953537925358, 25.653095215614453, 24.77512841403676, 24.55113573618557, 22.211838661348235, 22.172489816931453, 22.002119186091857, 21.81811147342582, 21.372009123289956, 21.34265299352457, 20.781537218543665, 20.727029248792412, 19.590770726780438, 19.570883031642268, 19.246490877513956, 18.388318795671193, 18.074679043361186, 18.034968647439086, 58.50516361998906, 24.288600399084725, 47.14955559997367, 33.3614417121393, 149.28475872350313, 68.95122860394459, 38.17010956187737, 186.21536522568158, 35.03149793575441, 27.995842085994784, 328.0899373008772, 43.07766768655704, 47.38353700865776, 135.28368085414968, 127.79282633319507, 132.02305172999107, 56.19012422573529, 37.131793144120216, 128.70703570787273, 79.56519382738938, 140.9973464684806, 340.0477961521927, 83.09540926263813, 114.14828582038716, 162.41267792420248, 85.14145204193734, 355.86342744203165, 79.76335451817988, 111.3175893201076, 68.47757751027174, 139.6073114724529, 46.307824534473845, 38.44911671714012, 35.650050447942675, 30.793262695037953, 28.101013992971364, 27.64534820402196, 26.706833257384073, 25.35017979906541, 24.21656737675371, 23.083235739317626, 22.887237027143854, 22.77610351397779, 22.424773532566583, 22.37344151684297, 22.28384478535432, 22.175055783414127, 21.08990656891404, 20.665705264621792, 20.62527412871611, 19.31473132279824, 19.027811937325353, 19.01667771064076, 18.76159067460358, 18.69915008706993, 18.509259760606273, 18.24291374457362, 17.91940190366314, 17.720661397850794, 17.79937612948453, 17.41144711318397, 24.013192110144985, 128.76382402167013, 34.63895204434072, 42.27203749706333, 33.16604283195245, 41.180338768413385, 101.41486776645182, 24.933761392444474, 28.51639782061662, 72.89116870246734, 59.65858611635829, 199.00066784727005, 123.85995099171735, 70.49227856127382, 68.44544586080018, 34.601129335232976, 89.98690714084586, 62.28865807592224, 107.69123806814005, 93.14152448709766, 128.70703570787273, 355.86342744203165, 50.96079918441369, 107.67275369651088, 111.3175893201076, 56.87355234010748, 60.992258981549625, 110.44962890873488, 340.0477961521927, 86.98805380670164, 156.03193211790628, 81.08959939076378, 96.89128694098717, 105.14490287100683, 123.64914914162132, 132.02305172999107, 126.56438135363133, 129.6292027524183, 37.55142015947256, 23.820503518202052, 22.988214436526828, 22.60131700486219, 22.544829785252453, 22.495473765607453, 20.628733573963807, 19.38245296644153, 16.77816974966481, 16.34307806812101, 14.960360332811135, 14.918928943952594, 14.801632906216524, 14.595796450330875, 13.257467311956779, 13.16992502419425, 13.056763418212997, 12.865133972975348, 12.487798049593987, 12.449957412405336, 12.018744612611643, 11.934994490267963, 11.288378734787392, 10.75668504753612, 10.773994109564018, 10.582134033534924, 10.47946015999214, 10.345626202186574, 10.042794853625116, 10.018736520845266, 64.17220785976123, 30.184611792942178, 46.054062826985856, 23.262688762533642, 48.83380645942342, 53.74013375048861, 12.971056647491721, 51.49440785085977, 163.25958194211555, 104.21238901943835, 29.77633662255837, 95.17491249806602, 28.416906355276332, 23.578058986186875, 53.44749336304556, 173.01917846096424, 35.366464261409426, 31.5255937458346, 127.79282633319507, 73.08478262091903, 34.040296182890394, 26.08265502451596, 139.6073114724529, 77.92983934353805, 340.0477961521927, 129.6292027524183, 73.98769966970319, 112.90032976450846, 135.28368085414968, 86.11701524640408, 73.90258974783622, 355.86342744203165, 33.98473163396646, 32.93769622125258, 29.64575990303055, 28.16782521839342, 24.143745962456943, 23.86233071166941, 23.33438946994496, 23.254362380226787, 24.032653145869592, 18.754527952438668, 18.569133960093268, 17.961565155756084, 17.543254443828047, 17.22559350199737, 17.032433252678487, 16.811074965542456, 16.248349881341525, 16.038788801212274, 16.038788801212274, 15.907400679798293, 15.721590996435975, 15.42021404835335, 34.922953473933084, 14.87245294828139, 14.675772227714432, 14.41352439670823, 14.353449279102282, 13.550324682935543, 13.299995795156622, 12.868318431801528, 34.49170454761595, 19.532365574333706, 25.004273349006645, 328.0899373008772, 23.205451071469184, 65.67632810152095, 83.09540926263813, 43.93357933070777, 74.24423144610779, 340.0477961521927, 41.101565751614814, 30.710152732874246, 162.41267792420248, 89.1051635014349, 86.11701524640408, 112.90032976450846, 44.85525470691975, 33.8987068747239, 140.9973464684806, 199.00066784727005, 104.21238901943835, 95.02372233044318, 65.4897157465083, 39.28379369341592, 29.65605429569611, 29.65605827506244, 20.402545087829846, 20.145683995794162, 18.632914947051248, 18.260502450166484, 17.62892652348583, 16.91196971872079, 16.80558858124736, 16.601471410033522, 16.56543013090572, 16.52388666460207, 16.29864642758853, 15.296841623628083, 15.172183002738281, 13.401041663075365, 12.834813188497868, 24.650406031857923, 12.617123433503052, 12.05028453951213, 12.020377541981127, 11.874913361158915, 11.729874731273325, 11.722059477336515, 11.662865067161148, 11.57397728068072, 11.329165949679542, 11.2603643702033, 11.050084525641099, 95.50364375189884, 22.167542848518288, 28.403100797647625, 19.975827989798546, 15.747683596884826, 14.321463473038364, 81.71414810645257, 28.457494735631332, 26.76829745141806, 24.761582672941003, 37.147571742977185, 48.84908567024272, 244.23299727473398, 73.51140158214051, 42.85242335047147, 62.90646501249729, 113.92448388884944, 52.07519536296027, 37.80007187966063, 58.526937703337886, 143.20301504898111, 39.46312381043149, 43.18604576137309, 78.42323637818055, 129.6292027524183, 95.02372233044318, 71.14515822083608, 79.76335451817988, 139.6073114724529, 109.39064517790533, 24.637916110546918, 23.913860545016696, 20.837956020797975, 20.02838736495352, 19.169368145193253, 19.093445383920088, 17.734488777922408, 17.103933446949224, 16.524719359126074, 15.155839510191461, 14.874921883245124, 14.313174898001506, 36.124630718095446, 13.27769218398786, 13.117760993453079, 12.475453385095019, 12.33231972005785, 12.204457344554342, 12.06635821928658, 12.029401812467093, 11.823029384635365, 11.182420258409609, 11.127619381864994, 11.040816325206084, 10.824693329275732, 10.570858008877657, 10.299741417844308, 9.767794780988964, 9.719818181022138, 9.601490027187827, 13.988746496211142, 38.37559274027337, 15.110103428703141, 34.807815023347665, 43.44243939551837, 94.2149922687039, 40.130683660366614, 17.00159596215913, 17.60548647407432, 16.55123827161579, 123.64914914162132, 30.070571594178922, 355.86342744203165, 29.996879148626903, 55.48188334068119, 36.96491855466315, 77.65147899365537, 92.18450227026798, 112.90032976450846, 107.69123806814005, 156.03193211790628, 105.14490287100683, 173.01917846096424, 340.0477961521927, 137.44023346895386, 162.41267792420248, 68.90563637188329, 35.35225987437029, 31.490042086268332, 24.93262079457658, 23.67565018664206, 21.39376088299629, 19.11185735630235, 16.829961132173356, 16.829961132173356, 16.82995935481018, 16.401976786769904, 14.831440863119296, 14.65431837247369, 14.548064236788761, 14.548063553871472, 14.548062020142133, 14.538482536938954, 14.111301567150377, 13.349396619435945, 12.696220658627285, 12.530845660657738, 12.26616917068199, 12.26616879634337, 12.266172996955786, 11.688901584201622, 11.682532826533244, 11.509140526369354, 10.712942098133558, 10.42258770759723, 10.311314648573381, 48.72201670504936, 12.852356761589881, 30.071929656387223, 244.23299727473398, 123.85995099171735, 62.84049430197116, 52.109054791154094, 46.447739132405914, 45.86914304307471, 41.8878554271999, 107.67275369651088, 199.00066784727005, 74.7353071864483, 63.847214486519576, 109.39064517790533, 126.56438135363133, 25.91131134540658, 79.56519382738938, 186.21536522568158, 56.87355234010748, 143.20301504898111, 24.81273236850859, 23.939390496835117, 20.82717237073693, 18.376860617417297, 17.620616301659677, 17.252856268730646, 17.142042436776997, 15.934449194262188, 15.873965541570355, 15.229647341099463, 14.861141916210428, 14.807118427858677, 14.426761431922248, 13.196142725966517, 12.491496191280667, 12.218384467654129, 11.306203480404694, 11.28626477114963, 11.205440479280014, 10.306003007505558, 9.942795782101173, 9.63745922773414, 9.47505376333659, 9.413263162279208, 9.414541920996735, 9.385226529524694, 9.20480379941614, 9.039914993725562, 8.921216137373086, 8.737793734297853, 27.52223902302569, 19.713066390519025, 24.45250242996288, 20.820484675153036, 20.509650837929637, 39.565613264620815, 19.1897263960218, 173.01917846096424, 28.304058361250792, 60.40360421519081, 94.2149922687039, 93.14152448709766, 156.03193211790628, 41.8878554271999, 38.332479885733356, 123.64914914162132, 51.102253729512604, 110.44962890873488, 95.02372233044318, 355.86342744203165, 86.98805380670164, 121.94169233480602, 101.41486776645182, 114.14828582038716, 34.854887696447456, 33.25936511648252, 28.725871507883284, 27.93146170824768, 27.441130552363312, 27.174078454027292, 25.76446217276405, 21.406482663351518, 19.753770726155718, 21.844127422679165, 17.85493679924745, 17.601773481301368, 17.498451809929946, 17.409895945661898, 16.527053212834723, 16.00466146818967, 14.89328509694536, 14.463477987392967, 14.286696549722262, 14.236306945548266, 12.97263641527104, 12.635494655077506, 12.389781325284066, 12.322760712362616, 12.114705658521045, 11.689691688148201, 11.25089887919568, 11.122855187487229, 10.953898421834843, 10.85027470097142, 20.88415297770599, 62.40600608622476, 14.427563054100386, 18.83404349141169, 35.860978224254524, 43.87649637443981, 65.95394578248572, 28.50404051472831, 35.130932524867525, 49.72095953282725, 28.226905009762202, 355.86342744203165, 149.28475872350313, 55.7270379345131, 340.0477961521927, 35.04686424631257, 21.75399343591179, 20.030382901146027, 19.894107418456365, 16.746921127876128, 16.395662206171522, 15.99660977318937, 15.612958169737672, 15.559382987134693, 15.477679842121058, 15.426391143297938, 15.015539829180007, 15.003987890497894, 14.80568252496884, 14.546247900774185, 14.470781864088877, 14.125680200320316, 13.759103716962416, 13.759103716962416, 13.10631559052517, 13.041210092664086, 12.663640389457619, 11.903371480313117, 11.573548907606172, 10.968976584011656, 9.78295390260501, 9.690511930523595, 9.636408602438186, 9.576618307981752, 9.202963381935126, 28.54953733872813, 17.15035017504627, 30.20212827851112, 23.02915709143981, 113.92448388884944, 35.73177785933771, 109.39064517790533, 163.25958194211555, 40.456210705707974, 77.92983934353805, 81.71414810645257, 48.71795844690155, 244.23299727473398, 143.20301504898111, 29.751086443979972, 63.847214486519576, 340.0477961521927], \"loglift\": [30.0, 29.0, 28.0, 27.0, 26.0, 25.0, 24.0, 23.0, 22.0, 21.0, 20.0, 19.0, 18.0, 17.0, 16.0, 15.0, 14.0, 13.0, 12.0, 11.0, 10.0, 9.0, 8.0, 7.0, 6.0, 5.0, 4.0, 3.0, 2.0, 1.0, 1.7025, 1.702, 1.7015, 1.6973, 1.6967, 1.6937, 1.6918, 1.6918, 1.6891, 1.6882, 1.6881, 1.6864, 1.6864, 1.6859, 1.6848, 1.6844, 1.6811, 1.681, 1.6808, 1.6805, 1.6797, 1.6796, 1.6787, 1.6786, 1.6763, 1.6763, 1.6756, 1.6737, 1.6729, 1.6728, 1.6601, 1.6619, 1.6349, 1.6443, 1.5258, 1.5666, 1.6151, 1.3536, 1.5878, 1.6295, 1.0769, 1.5221, 1.4489, 1.1139, 1.1256, 0.9809, 1.3342, 1.5018, 0.9189, 1.1434, 0.8612, 0.4185, 1.1033, 0.9016, 0.6953, 1.0024, -0.057, 0.934, 0.6481, 1.0532, 0.3579, 1.7916, 1.7883, 1.787, 1.7835, 1.7811, 1.7806, 1.7796, 1.778, 1.7766, 1.7749, 1.7747, 1.7745, 1.7739, 1.7739, 1.7737, 1.7728, 1.7717, 1.7709, 1.7708, 1.7682, 1.7676, 1.7676, 1.767, 1.7669, 1.7664, 1.7658, 1.765, 1.7645, 1.7642, 1.7637, 1.7632, 1.7028, 1.7368, 1.7174, 1.7279, 1.6847, 1.5627, 1.7322, 1.7114, 1.569, 1.5181, 1.1819, 1.2656, 1.3981, 1.382, 1.6169, 1.2712, 1.4003, 1.1902, 1.2178, 1.0634, 0.5759, 1.4241, 1.0513, 1.0041, 1.3433, 1.2774, 0.9199, 0.2232, 1.023, 0.5815, 1.063, 0.9252, 0.857, 0.7093, 0.5944, 0.6239, 0.5865, 2.2966, 2.2846, 2.2834, 2.2828, 2.2827, 2.2826, 2.2795, 2.2769, 2.2706, 2.2693, 2.2648, 2.2647, 2.2642, 2.2634, 2.2579, 2.2575, 2.257, 2.256, 2.2541, 2.2539, 2.2516, 2.2511, 2.2472, 2.2436, 2.2435, 2.2423, 2.2416, 2.2406, 2.2382, 2.238, 2.1674, 2.1389, 2.0081, 2.0879, 1.9376, 1.8597, 2.1917, 1.7911, 1.379, 1.5262, 1.9268, 1.5016, 1.9384, 1.9988, 1.6432, 1.0881, 1.8112, 1.8494, 1.109, 1.3659, 1.7829, 1.9345, 0.7885, 1.1524, -0.0343, 0.6793, 1.1257, 0.7566, 0.5663, 0.9642, 1.0765, -0.4233, 2.3033, 2.3026, 2.2999, 2.2985, 2.2938, 2.2934, 2.2927, 2.2925, 2.2862, 2.2843, 2.2838, 2.2824, 2.2813, 2.2804, 2.2799, 2.2793, 2.2776, 2.277, 2.277, 2.2765, 2.2759, 2.2749, 2.274, 2.273, 2.2723, 2.2712, 2.271, 2.2676, 2.2665, 2.2644, 2.1482, 2.2161, 2.1365, 1.4883, 2.1076, 1.7108, 1.5279, 1.7936, 1.5036, 0.6431, 1.7479, 1.881, 0.813, 1.1919, 1.1869, 0.9741, 1.6025, 1.7677, 0.5248, 0.1776, 0.7412, 0.7914, 1.1093, 2.3853, 2.3788, 2.3788, 2.3667, 2.3662, 2.3629, 2.3618, 2.3605, 2.3585, 2.3582, 2.3577, 2.3575, 2.3574, 2.3567, 2.3535, 2.3531, 2.3459, 2.3432, 2.3424, 2.3422, 2.3391, 2.339, 2.3381, 2.3373, 2.3372, 2.3368, 2.3363, 2.3348, 2.3343, 2.3329, 2.2989, 2.2964, 2.2125, 2.2446, 2.2785, 2.2943, 1.9017, 2.1421, 2.1071, 2.1271, 1.9698, 1.8519, 1.198, 1.6569, 1.87, 1.6705, 1.3681, 1.7272, 1.8533, 1.5454, 0.9531, 1.7896, 1.6437, 1.1703, 0.7729, 0.9572, 1.2041, 1.0587, 0.4946, 0.6939, 2.4809, 2.4799, 2.4749, 2.4734, 2.4716, 2.4715, 2.4683, 2.4666, 2.4649, 2.4605, 2.4595, 2.4574, 2.4563, 2.4529, 2.4522, 2.449, 2.4482, 2.4475, 2.4468, 2.4466, 2.4454, 2.4414, 2.441, 2.4404, 2.439, 2.4371, 2.435, 2.4307, 2.4302, 2.4292, 2.4099, 2.3493, 2.3735, 2.2544, 2.2106, 1.9695, 2.1425, 2.3193, 2.3027, 2.3169, 1.4792, 2.0548, 0.8941, 1.9783, 1.6175, 1.8159, 1.3369, 1.1188, 0.8635, 0.8369, 0.4421, 0.7415, 0.3021, -0.3913, 0.4053, 0.2019, 2.5353, 2.5244, 2.5216, 2.5149, 2.5132, 2.5096, 2.505, 2.4992, 2.4992, 2.4992, 2.4979, 2.4926, 2.492, 2.4916, 2.4916, 2.4916, 2.4915, 2.4898, 2.4865, 2.4833, 2.4824, 2.481, 2.481, 2.481, 2.4776, 2.4776, 2.4765, 2.4711, 2.4689, 2.468, 2.3256, 2.4447, 2.3057, 1.8968, 1.658, 1.8563, 1.7813, 1.8089, 1.8069, 1.8039, 1.2253, 0.7397, 1.3185, 1.4069, 0.8445, 0.7124, 2.0168, 1.0128, 0.2557, 1.2617, 0.3397, 2.5599, 2.5587, 2.5537, 2.5486, 2.5467, 2.5457, 2.5454, 2.5418, 2.5416, 2.5395, 2.5381, 2.5379, 2.5365, 2.5312, 2.5276, 2.5261, 2.5207, 2.5206, 2.52, 2.5135, 2.5106, 2.5079, 2.5064, 2.5058, 2.5058, 2.5055, 2.5038, 2.5018, 2.5009, 2.4989, 2.4954, 2.4677, 2.4502, 2.3865, 2.3712, 2.2444, 2.3705, 1.9049, 2.159, 1.8412, 1.6508, 1.6241, 1.3816, 1.9135, 1.952, 1.2747, 1.7482, 1.3011, 1.2846, 0.177, 1.1759, 0.9032, 0.9468, 0.6201, 2.6624, 2.6614, 2.6576, 2.6568, 2.6563, 2.656, 2.6544, 2.648, 2.6449, 2.6447, 2.6405, 2.6398, 2.6396, 2.6393, 2.6368, 2.6352, 2.6314, 2.6297, 2.629, 2.6288, 2.6232, 2.6215, 2.6202, 2.6198, 2.6186, 2.6162, 2.6134, 2.6125, 2.6113, 2.6106, 2.6037, 2.4222, 2.5808, 2.5314, 2.4126, 2.3736, 2.2238, 2.3434, 2.0145, 1.6883, 2.0647, 0.0954, 0.7665, 1.5317, -0.0897, 2.6744, 2.6605, 2.6574, 2.6571, 2.6495, 2.6485, 2.6472, 2.646, 2.6458, 2.6455, 2.6453, 2.6439, 2.6439, 2.6431, 2.6422, 2.6419, 2.6405, 2.639, 2.639, 2.636, 2.6357, 2.6336, 2.6296, 2.6276, 2.6238, 2.6145, 2.6137, 2.6132, 2.6127, 2.6091, 2.5244, 2.3787, 2.1405, 2.2445, 1.5552, 1.9241, 1.2373, 0.9612, 1.8287, 1.3879, 1.2196, 1.6071, 0.3099, 0.6345, 1.9706, 1.2144, -0.4437], \"logprob\": [30.0, 29.0, 28.0, 27.0, 26.0, 25.0, 24.0, 23.0, 22.0, 21.0, 20.0, 19.0, 18.0, 17.0, 16.0, 15.0, 14.0, 13.0, 12.0, 11.0, 10.0, 9.0, 8.0, 7.0, 6.0, 5.0, 4.0, 3.0, 2.0, 1.0, -5.142399787902832, -5.17710018157959, -5.21560001373291, -5.465400218963623, -5.4969000816345215, -5.642600059509277, -5.722400188446045, -5.7230000495910645, -5.828100204467773, -5.850800037384033, -5.861100196838379, -5.9243998527526855, -5.924799919128418, -5.941400051116943, -5.97730016708374, -5.986800193786621, -6.090199947357178, -6.092100143432617, -6.099999904632568, -6.108699798583984, -6.130199909210205, -6.1315999031066895, -6.159200191497803, -6.161900043487549, -6.220600128173828, -6.22160005569458, -6.238999843597412, -6.286600112915039, -6.304500102996826, -6.30679988861084, -5.1427998542785645, -6.020100116729736, -5.383800029754639, -5.720300197601318, -4.3403000831604, -5.072000026702881, -5.614799976348877, -4.291500091552734, -5.72790002822876, -5.910399913787842, -4.001699924468994, -5.586900234222412, -5.564799785614014, -4.850599765777588, -4.895999908447266, -5.007999897003174, -5.508999824523926, -5.75570011138916, -5.0954999923706055, -5.3520002365112305, -5.061999797821045, -4.6244001388549805, -5.348700046539307, -5.232800006866455, -5.08650016784668, -5.42519998550415, -5.0543999671936035, -5.558899879455566, -5.511499881744385, -5.592199802398682, -5.575200080871582, -5.244999885559082, -5.4344000816345215, -5.511199951171875, -5.661099910736084, -5.755099773406982, -5.771900177001953, -5.807400226593018, -5.861100196838379, -5.908400058746338, -5.957900047302246, -5.966700077056885, -5.971799850463867, -5.987800121307373, -5.990200042724609, -5.9944000244140625, -6.000199794769287, -6.051499843597412, -6.0725998878479, -6.0746002197265625, -6.142899990081787, -6.1585001945495605, -6.15910005569458, -6.173099994659424, -6.176599979400635, -6.187300205230713, -6.202400207519531, -6.221099853515625, -6.232699871063232, -6.228600025177002, -6.251100063323975, -5.930200099945068, -4.311200141906738, -5.590099811553955, -5.410399913787842, -5.642499923706055, -5.469299793243408, -4.690000057220459, -5.923500061035156, -5.810100078582764, -5.013999938964844, -5.265200138092041, -4.396699905395508, -4.787199974060059, -5.218400001525879, -5.263899803161621, -5.711100101470947, -5.101099967956543, -5.339900016784668, -5.002500057220459, -5.119999885559082, -4.951099872589111, -4.421500205993652, -5.5167999267578125, -5.141600131988525, -5.1554999351501465, -5.4878997802734375, -5.483799934387207, -5.247399806976318, -4.819699764251709, -5.383200168609619, -5.2403998374938965, -5.413400173187256, -5.3730998039245605, -5.359600067138672, -5.345200061798096, -5.394599914550781, -5.407299995422363, -5.42080020904541, -4.9496002197265625, -5.416800022125244, -5.45359992980957, -5.471099853515625, -5.473700046539307, -5.47599983215332, -5.565800189971924, -5.6305999755859375, -5.781300067901611, -5.808800220489502, -5.901700019836426, -5.904600143432617, -5.913000106811523, -5.927800178527832, -6.0295000076293945, -6.036499977111816, -6.0457000732421875, -6.061399936676025, -6.093100070953369, -6.096399784088135, -6.133900165557861, -6.14139986038208, -6.201000213623047, -6.252799987792969, -6.251299858093262, -6.270500183105469, -6.280900001525879, -6.2947998046875, -6.326900005340576, -6.329500198364258, -4.543000221252441, -5.325799942016602, -5.033999919891357, -5.637199878692627, -5.045899868011475, -5.02810001373291, -6.117499828338623, -5.139400005340576, -4.397600173950195, -4.6992998123168945, -5.551400184631348, -4.814599990844727, -5.586599826812744, -5.712900161743164, -5.25, -4.630499839782715, -5.494999885559082, -5.571800231933594, -4.912600040435791, -5.214399814605713, -5.561500072479248, -5.676199913024902, -5.144599914550781, -5.363800048828125, -5.077199935913086, -5.328000068664551, -5.442399978637695, -5.388800144195557, -5.398200035095215, -5.452000141143799, -5.492700099945068, -5.42080020904541, -5.042699813842773, -5.074699878692627, -5.182700157165527, -5.235300064086914, -5.394100189208984, -5.406199932098389, -5.4293999671936035, -5.4328999519348145, -5.406300067901611, -5.656199932098389, -5.666600227355957, -5.701300144195557, -5.72599983215332, -5.745100021362305, -5.756899833679199, -5.770599842071533, -5.806399822235107, -5.820000171661377, -5.820000171661377, -5.82859992980957, -5.841000080108643, -5.861299991607666, -5.0447998046875, -5.899499893188477, -5.91349983215332, -5.932499885559082, -5.936999797821045, -5.997900009155273, -6.0177001953125, -6.052800178527832, -5.183000087738037, -5.683800220489502, -5.51639986038208, -3.5903000831604004, -5.619999885559082, -4.976399898529053, -4.923999786376953, -5.2957000732421875, -5.0609002113342285, -4.399799823760986, -5.4079999923706055, -5.566400051116943, -4.968800067901611, -5.190299987792969, -5.229400157928467, -5.171299934387207, -5.466000080108643, -5.580900192260742, -5.398399829864502, -5.401000022888184, -5.484300136566162, -5.526400089263916, -5.5808000564575195, -4.815800189971924, -5.103499889373779, -5.103499889373779, -5.48960018157959, -5.502799987792969, -5.584099769592285, -5.605400085449219, -5.641900062561035, -5.685400009155273, -5.691999912261963, -5.704800128936768, -5.707099914550781, -5.709700107574463, -5.724100112915039, -5.790800094604492, -5.7993998527526855, -5.930699825286865, -5.976600170135498, -5.324699878692627, -5.994699954986572, -6.043799877166748, -6.04640007019043, -6.0594000816345215, -6.0725998878479, -6.073299884796143, -6.078700065612793, -6.086900234222412, -6.109799861907959, -6.116399765014648, -6.136600017547607, -4.013899803161621, -5.4770002365112305, -5.313000202178955, -5.632900238037109, -5.836699962615967, -5.915900230407715, -4.566999912261963, -5.381499767303467, -5.47760009765625, -5.535600185394287, -5.287199974060059, -5.13129997253418, -4.17579984664917, -4.917600154876709, -5.244200229644775, -5.059800148010254, -4.7683000564575195, -5.1921000480651855, -5.38640022277832, -5.2571001052856445, -4.954599857330322, -5.406899929046631, -5.462699890136719, -5.3394999504089355, -5.234300136566162, -5.360599994659424, -5.40310001373291, -5.434199810028076, -5.438499927520752, -5.483099937438965, -5.186800003051758, -5.217599868774414, -5.360199928283691, -5.401400089263916, -5.447000026702881, -5.451099872589111, -5.528200149536133, -5.566100120544434, -5.602200031280518, -5.692999839782715, -5.712800025939941, -5.753399848937988, -4.828700065612793, -5.832900047302246, -5.845799922943115, -5.899199962615967, -5.911499977111816, -5.922699928283691, -5.934800148010254, -5.938000202178955, -5.956500053405762, -6.016200065612793, -6.021500110626221, -6.029900074005127, -6.051199913024902, -6.076700210571289, -6.104800224304199, -6.162199974060059, -6.167600154876709, -6.1809000968933105, -5.823800086975098, -4.875199794769287, -5.783100128173828, -5.067699909210205, -4.889900207519531, -4.356900215148926, -5.037300109863281, -5.719299793243408, -5.701099872589111, -5.748600006103516, -4.575300216674805, -5.413599967956543, -4.103300094604492, -5.492499828338623, -5.238399982452393, -5.446100234985352, -5.1828999519348145, -5.229400157928467, -5.2820000648498535, -5.355800151824951, -5.379799842834473, -5.475100040435791, -5.416500091552734, -5.434100151062012, -5.543399810791016, -5.579999923706055, -4.103899955749512, -4.782199859619141, -4.900700092315674, -5.140900135040283, -5.194300174713135, -5.299300193786621, -5.416600227355957, -5.549600124359131, -5.549600124359131, -5.549600124359131, -5.576600074768066, -5.682600021362305, -5.695199966430664, -5.702899932861328, -5.702899932861328, -5.702899932861328, -5.703700065612793, -5.735199928283691, -5.794000148773193, -5.847400188446045, -5.861400127410889, -5.884099960327148, -5.884099960327148, -5.884200096130371, -5.935699939727783, -5.936299800872803, -5.952300071716309, -6.029399871826172, -6.059100151062012, -6.070700168609619, -4.660299777984619, -5.873700141906738, -5.162700176239014, -3.4769999980926514, -4.394800186157227, -4.875100135803223, -5.13730001449585, -5.224699974060059, -5.239200115203857, -5.333099842071533, -4.967599868774414, -4.838900089263916, -5.239500045776367, -5.308599948883057, -5.332600116729736, -5.31879997253418, -5.600500106811523, -5.482600212097168, -5.389400005340576, -5.569399833679199, -5.567999839782715, -5.1006999015808105, -5.137700080871582, -5.2820000648498535, -5.412300109863281, -5.456200122833252, -5.478300094604492, -5.485000133514404, -5.561699867248535, -5.5655999183654785, -5.609300136566162, -5.6350998878479, -5.638899803161621, -5.666399955749512, -5.760900020599365, -5.819300174713135, -5.842899799346924, -5.925899982452393, -5.927800178527832, -5.935500144958496, -6.025700092315674, -6.064499855041504, -6.098400115966797, -6.1168999671936035, -6.124000072479248, -6.123899936676025, -6.127299785614014, -6.148399829864502, -6.168499946594238, -6.182600021362305, -6.205399990081787, -5.061600208282471, -5.422900199890137, -5.224999904632568, -5.44950008392334, -5.479899883270264, -4.9496002197265625, -5.547100067138672, -3.8136000633239746, -5.369999885559082, -4.929699897766113, -4.675600051879883, -4.713799953460693, -4.440299987792969, -5.223400115966797, -5.27370023727417, -4.779799938201904, -5.190000057220459, -4.866300106048584, -5.033199787139893, -4.820400238037109, -5.230199813842773, -5.165200233459473, -5.3059000968933105, -5.5142998695373535, -4.658400058746338, -4.706200122833252, -4.856599807739258, -4.88539981842041, -4.903600215911865, -4.913700103759766, -4.968599796295166, -5.160200119018555, -5.24370002746582, -5.1433000564575195, -5.3491997718811035, -5.364099979400635, -5.370299816131592, -5.3755998611450195, -5.430099964141846, -5.463900089263916, -5.539700031280518, -5.5706000328063965, -5.583600044250488, -5.587299823760986, -5.6859002113342285, -5.714000225067139, -5.734899997711182, -5.740699768066406, -5.758900165557861, -5.797100067138672, -5.838099956512451, -5.850500106811523, -5.8668999671936035, -5.877200126647949, -5.229300022125244, -4.316100120544434, -5.622099876403809, -5.404900074005127, -4.879700183868408, -4.7170000076293945, -4.459199905395508, -5.178500175476074, -5.298299789428711, -5.277200222015381, -5.4670000076293945, -4.9019999504089355, -5.099599838256836, -5.319799900054932, -5.132599830627441, -4.640900135040283, -5.1315999031066895, -5.217299938201904, -5.224400043487549, -5.404200077056885, -5.426499843597412, -5.452400207519531, -5.47790002822876, -5.481500148773193, -5.486999988555908, -5.490499973297119, -5.518899917602539, -5.519700050354004, -5.53380012512207, -5.5524001121521, -5.558000087738037, -5.583399772644043, -5.611299991607666, -5.611299991607666, -5.662799835205078, -5.6682000160217285, -5.6996002197265625, -5.765500068664551, -5.795599937438965, -5.853099822998047, -5.976799964904785, -5.987100124359131, -5.993199825286865, -5.999899864196777, -6.043300151824951, -4.9959001541137695, -5.651299953460693, -5.323500156402588, -5.490699768066406, -4.581200122833252, -5.3719000816345215, -4.939700126647949, -4.815499782562256, -5.3429999351501465, -5.128200054168701, -5.249100208282471, -5.378799915313721, -5.063899993896484, -5.273200035095215, -5.508500099182129, -5.501100063323975, -5.486499786376953]}, \"token.table\": {\"Topic\": [5, 2, 2, 8, 4, 1, 4, 6, 9, 9, 1, 5, 1, 2, 5, 10, 4, 7, 9, 4, 1, 3, 1, 3, 4, 9, 2, 7, 9, 8, 6, 1, 2, 3, 5, 6, 7, 8, 9, 1, 1, 4, 7, 1, 2, 3, 4, 5, 6, 8, 10, 5, 7, 5, 10, 1, 9, 7, 9, 5, 10, 2, 8, 2, 4, 5, 7, 8, 5, 4, 5, 9, 10, 6, 1, 2, 3, 4, 7, 9, 5, 5, 2, 6, 3, 4, 5, 9, 9, 1, 2, 4, 5, 6, 8, 9, 3, 9, 5, 10, 10, 2, 8, 1, 4, 10, 4, 1, 3, 8, 7, 10, 3, 9, 9, 1, 3, 2, 7, 7, 8, 4, 3, 6, 1, 1, 2, 6, 7, 1, 2, 3, 5, 7, 10, 3, 2, 7, 8, 2, 3, 4, 10, 8, 1, 3, 4, 1, 2, 7, 4, 4, 7, 7, 1, 2, 4, 7, 9, 4, 8, 2, 8, 4, 1, 1, 2, 3, 4, 5, 6, 8, 9, 10, 10, 4, 10, 1, 5, 6, 6, 2, 3, 10, 9, 8, 1, 3, 4, 6, 10, 8, 4, 5, 4, 1, 7, 1, 9, 2, 7, 2, 4, 5, 6, 8, 9, 3, 4, 10, 1, 4, 8, 3, 6, 10, 6, 8, 4, 1, 2, 5, 6, 7, 3, 1, 2, 6, 1, 8, 1, 3, 6, 10, 7, 8, 9, 4, 7, 8, 9, 1, 2, 3, 5, 7, 8, 1, 2, 3, 5, 7, 8, 9, 2, 4, 5, 6, 8, 10, 8, 10, 6, 3, 3, 5, 1, 2, 1, 2, 7, 9, 6, 5, 6, 5, 3, 7, 1, 2, 7, 8, 5, 6, 10, 1, 2, 3, 4, 5, 6, 10, 2, 4, 7, 5, 4, 5, 7, 6, 5, 9, 6, 8, 3, 9, 2, 9, 2, 2, 2, 3, 5, 7, 10, 6, 8, 10, 1, 2, 3, 4, 7, 10, 1, 2, 6, 8, 9, 6, 1, 3, 4, 5, 8, 9, 3, 5, 4, 1, 2, 3, 4, 10, 2, 2, 5, 7, 8, 3, 6, 10, 1, 2, 3, 4, 5, 6, 7, 1, 2, 2, 5, 2, 3, 5, 10, 3, 10, 2, 1, 2, 5, 2, 3, 1, 9, 7, 2, 8, 2, 3, 4, 6, 8, 10, 9, 4, 6, 1, 3, 10, 3, 3, 1, 4, 1, 3, 4, 6, 3, 1, 1, 2, 3, 4, 5, 6, 7, 8, 10, 4, 10, 7, 2, 4, 1, 10, 1, 2, 4, 5, 6, 7, 8, 10, 1, 3, 5, 7, 10, 9, 4, 10, 3, 9, 4, 6, 8, 1, 3, 2, 5, 1, 2, 4, 7, 8, 9, 10, 4, 5, 1, 2, 7, 8, 1, 2, 3, 4, 7, 8, 2, 1, 2, 3, 4, 5, 7, 9, 10, 5, 6, 7, 1, 4, 1, 3, 5, 7, 10, 4, 1, 5, 9, 3, 7, 5, 7, 8, 3, 8, 6, 3, 5, 10, 8, 9, 4, 4, 10, 5, 2, 9, 2, 1, 7, 1, 4, 5, 6, 3, 8, 8, 6, 7, 1, 2, 3, 4, 5, 10, 1, 3, 8, 8, 3, 4, 6, 9, 1, 3, 1, 3, 4, 7, 8, 9, 10, 4, 4, 7, 8, 3, 4, 4, 6, 10, 1, 2, 3, 4, 5, 7, 10, 1, 2, 3, 5, 7, 1, 2, 5, 7, 10, 1, 8, 9, 2, 5, 5, 5, 5, 2, 2, 3, 6, 8, 8, 5, 10, 10, 3, 1, 3, 6, 8, 10, 2, 7, 9, 6, 1, 1, 4, 5, 3, 2, 3, 5, 6, 9, 10, 1, 7, 1, 1, 2, 7, 8, 1, 8, 5, 2, 5, 7, 8, 6, 1, 2, 3, 4, 6, 9, 9, 2, 6, 8, 10, 1, 4, 1, 8, 9, 1, 10, 9, 1, 3, 4, 5, 7, 5, 6, 8, 2, 3, 6, 2, 9, 1, 1, 2, 3, 4, 7, 9, 2, 3, 6, 10, 9, 2, 3, 5, 1, 3, 6, 8, 10, 7, 7, 3, 9, 5, 2, 7, 9, 2, 6, 5, 7, 2, 5, 7, 10, 3, 1, 4, 2, 8, 4, 1, 2, 4, 5, 7, 9, 10, 2, 4, 9, 10, 1, 1, 2, 3, 5, 6, 2, 3, 5, 9, 4, 6, 2, 5, 6, 10, 5, 7, 1, 2, 5, 2, 7, 10, 10, 5, 10, 6, 8, 5, 1, 3, 5, 10, 1, 2, 3, 5, 6, 8, 3, 2, 7, 5, 8, 7, 1, 3, 10, 3, 4, 2, 3, 5, 7, 1, 4, 5, 9, 7, 10, 6, 8, 6, 3, 5, 2, 8, 10, 1, 2, 3, 4, 5, 1, 2, 5, 8, 1, 2, 5, 7, 1, 2, 3, 4, 5, 6, 7, 8, 10, 1, 2, 4, 1, 5, 1, 4, 9, 5, 10, 1, 2, 3, 4, 5, 7, 10, 10, 9, 4, 2, 3, 6, 9, 6, 6, 8, 2, 8, 9, 4, 10, 6, 3, 1, 8, 2, 2, 4, 4, 1, 3, 4, 5, 6, 7, 8, 9, 10, 2, 1, 3, 3, 6, 5, 2, 6, 9, 10, 9, 6, 4, 7, 7, 7, 7, 6, 1, 3, 4, 8, 9, 2, 6, 1, 9, 2, 9, 10, 4, 5, 9, 1, 2, 3, 4, 6, 7, 8, 9, 10, 1, 3, 4, 8, 2, 2, 8, 1, 2, 4, 1, 5, 7, 8, 6, 2, 1, 4, 10, 1, 2, 5, 6, 8, 10, 8, 1, 2, 4, 5, 7, 8, 10, 1, 6, 2, 3, 8, 1, 2, 3, 4, 6, 8, 2, 5, 7, 1, 2, 3, 4, 7, 10, 8, 1, 2, 3, 4, 6, 8, 1, 3, 6, 10, 8, 1, 1, 1, 2, 3, 4, 6, 7, 8, 8, 1, 7, 10, 1, 2, 7, 10, 1, 2, 5, 7, 8, 10, 9, 1, 2, 3, 4, 5, 6, 7, 8, 9, 10, 6, 9, 2, 3, 1, 3, 5, 8, 10, 3, 10, 1, 10, 3, 6, 6, 1, 2, 4], \"Freq\": [0.9778778967304723, 0.9872623064785988, 0.973533617760966, 0.8691114090348606, 0.9352327152575413, 0.978882311102709, 0.16627552237709717, 0.6318469850329692, 0.16627552237709717, 0.96854009646735, 0.9625031032396059, 0.9309710971203319, 0.0611889142316736, 0.09790226277067776, 0.5996513594704013, 0.23251787408035968, 0.5595893873969112, 0.26762970701591404, 0.1459798401904986, 0.9710242927743982, 0.7597575502525741, 0.21104376395904834, 0.34673002720827895, 0.44129276190144595, 0.17861849886487097, 0.021013941042925997, 0.5562829310330336, 0.10766766407090973, 0.3230029922127292, 0.9420541220139281, 0.9741083577164288, 0.11571466676879, 0.2931438224809347, 0.19285777794798334, 0.19285777794798334, 0.06171448894335466, 0.038571555589596664, 0.069428800061274, 0.03085724447167733, 0.9775515176932015, 0.9469462884681785, 0.041171577759486024, 0.9594546268687959, 0.24601921972372898, 0.18041409446406792, 0.09020704723203396, 0.008200640657457632, 0.11480896920440685, 0.1312102505193221, 0.18861473512152555, 0.04920384394474579, 0.07780674148328703, 0.9336808977994444, 0.2332313893986837, 0.6996941681960511, 0.25070370036218376, 0.72931985559908, 0.9900357183494888, 0.9621350223592088, 0.9022199770479672, 0.09022199770479672, 0.6868024159775091, 0.31396681873257565, 0.5582901964118405, 0.010736349930996933, 0.010736349930996933, 0.053681749654984665, 0.37577224758489264, 0.9049704531033734, 0.06622049881905191, 0.2317717458666817, 0.13244099763810382, 0.5628742399619413, 0.9147902607761386, 0.546998718047744, 0.08131062025034032, 0.17001311506889338, 0.14044561679604237, 0.051743121977489294, 0.007391874568212756, 0.9927758073563173, 0.9510884206883191, 0.9346909475173907, 0.060302641775315524, 0.9591802713638578, 0.9325227739425807, 0.2230837081457307, 0.752907514991841, 0.9703288130899868, 0.21149516994420983, 0.294811449013141, 0.019226833631291802, 0.05127155635011147, 0.12817889087527867, 0.3012203935569049, 0.9666518810230172, 0.9281608935652798, 0.9400209496339679, 0.7730828101482183, 0.21084076640405955, 0.9691375033600904, 0.9550896546221995, 0.9794926551785393, 0.2503779607210708, 0.5918024526134401, 0.15933142954977234, 0.9413376561811744, 0.3110291127406477, 0.5937828515957819, 0.08482612165654028, 0.9698084425523322, 0.9330852638761642, 0.6757613709146365, 0.30716425950665294, 0.9129169921885163, 0.9635791673729893, 0.9051502611797744, 0.5813016994073792, 0.41175537041356025, 0.9439406548026764, 0.9607596318310899, 0.9539532082381142, 0.6344051807951294, 0.3489228494373212, 0.9805151528512623, 0.5111162116497177, 0.2920664066569815, 0.189843164327038, 0.9868568607799284, 0.057322311711433545, 0.020472254182654838, 0.004094450836530967, 0.29889491106676064, 0.5240897070759638, 0.09007791840368128, 0.8983168667300857, 0.9763691604431648, 0.4774653606881242, 0.5013386287225303, 0.3919570432580302, 0.2973467224716091, 0.2162521617975339, 0.08109456067407521, 0.9746360042977734, 0.8124859557083731, 0.09285553779524264, 0.06964165334643198, 0.4360229704143031, 0.06540344556214546, 0.4796252674557334, 0.9288504339861928, 0.9585404549574229, 0.9623274894358211, 0.9506855995719938, 0.450635815524825, 0.4739445646036953, 0.0543870811840306, 0.007769583026290086, 0.007769583026290086, 0.9570312466292524, 0.9647789673735067, 0.9225956994078972, 0.07096889995445363, 0.9231706671472503, 0.9797959902546391, 0.01771474010901183, 0.12400318076308281, 0.21257688130814195, 0.25686373158067155, 0.04428685027252957, 0.19486214119913012, 0.08857370054505914, 0.04428685027252957, 0.026572110163517744, 0.9201600092885717, 0.9856696713502765, 0.9550566708196783, 0.1408296942118124, 0.8097707417179213, 0.9373545121137832, 0.9708981608679024, 0.246332233089837, 0.6686160612438433, 0.03519031901283386, 0.9764561518953803, 0.9454911884583745, 0.5555867417383917, 0.29735628431068856, 0.10955231527235894, 0.0234754961297912, 0.015650330753194136, 0.9704187641879245, 0.9593866054273528, 0.9128415153958969, 0.9464654027965969, 0.9776566603358505, 0.9506854991728565, 0.9589737460336663, 0.9679552879468579, 0.931868682712852, 0.8967755007237037, 0.12628425519124825, 0.2104737586520804, 0.23152113451728842, 0.08418950346083216, 0.2736158862477045, 0.06314212759562413, 0.5875389536138219, 0.32314642448760206, 0.08813084304207329, 0.9544535152447804, 0.15633365156378293, 0.7816682578189146, 0.7382627701649234, 0.06514083266161089, 0.19542249798483266, 0.8942607922895418, 0.9672453498293448, 0.9429573254572853, 0.18794764311361967, 0.06834459749586169, 0.4271537343491356, 0.17086149373965423, 0.13668919499172338, 0.9216594116544942, 0.3556072879570601, 0.5889745706788808, 0.055563638743290636, 0.27801919627607774, 0.7076852268845616, 0.11194517148702939, 0.22389034297405877, 0.16791775723054408, 0.4757669788198749, 0.24731435720833714, 0.6359512042500098, 0.07066124491666775, 0.28464943231784334, 0.028464943231784334, 0.170789659390706, 0.512368978172118, 0.19013191993023726, 0.4074255427076513, 0.06337730664341243, 0.036215603796235674, 0.027161702847176752, 0.27161702847176755, 0.4467872612668817, 0.30661870871256586, 0.06132374174251317, 0.04380267267322369, 0.008760534534644739, 0.14016855255431582, 0.9497055974122757, 0.5385767778368501, 0.06500064560099915, 0.10214387165871296, 0.185716130288569, 0.027857419543285352, 0.0742864521154276, 0.8924236417560742, 0.9323674113130127, 0.911625512859204, 0.9458415898235223, 0.9609380254503838, 0.9700738440221123, 0.1445039539477891, 0.8381229328971768, 0.6981163978732259, 0.19869466708699507, 0.10203239661224071, 0.8888178720094314, 0.921395279261669, 0.9682951913653369, 0.9354573349824318, 0.9802698591721302, 0.9190639070063177, 0.9815945926875694, 0.03883078215476524, 0.9008741459905535, 0.05436309501667133, 0.007766156430953047, 0.201104263376046, 0.7756878730218918, 0.9504431257702437, 0.18375644261196653, 0.12862950982837656, 0.39201374423886187, 0.09187822130598326, 0.024500859014928867, 0.006125214753732217, 0.1776312278582343, 0.6329831445153574, 0.08791432562713299, 0.28132584200682553, 0.9643241735310455, 0.9526276508941303, 0.915112687732356, 0.9623273428087545, 0.9013100451293908, 0.9637699939253573, 0.9839244760152449, 0.7952066545060413, 0.17040142596558028, 0.9665920462007872, 0.9567941758903221, 0.9465375747483021, 0.9079873923526156, 0.9724862167805249, 0.9833087137460798, 0.03849616559293934, 0.30796932474351474, 0.23097699355763604, 0.1411526071741109, 0.2694731591505754, 0.9730529431930516, 0.14010734929052263, 0.8406440957431358, 0.3758973698855297, 0.01566239041189707, 0.01566239041189707, 0.03132478082379414, 0.3132478082379414, 0.23493585617845608, 0.9745412703564548, 0.48694818503067655, 0.48694818503067655, 0.8967387267399684, 0.981011235253168, 0.9259432463019137, 0.02736547785020764, 0.383116689902907, 0.1368273892510382, 0.25997203957697257, 0.04104821677531146, 0.12314465032593438, 0.9358063367828869, 0.9227413087143277, 0.9352327152575413, 0.013469059892227148, 0.3771336769823601, 0.10775247913781719, 0.4444789764434959, 0.06734529946113574, 0.9593321388140627, 0.39682464223225894, 0.5820094752739797, 0.144088864731385, 0.8165035668111816, 0.9758334930694909, 0.9597870338164824, 0.9455828852462487, 0.11476190496142342, 0.03825396832047447, 0.08925925941444043, 0.21677248714935535, 0.2932804237903043, 0.20402116437586387, 0.05100529109396597, 0.097133732252541, 0.8742035902728691, 0.9612344195985034, 0.9658668609002303, 0.3159987982488773, 0.008777744395802145, 0.35110977583208586, 0.3159987982488773, 0.34738570622602977, 0.6513481991738058, 0.9861862991962559, 0.040106263321466766, 0.9224440563937357, 0.040106263321466766, 0.9497630131543113, 0.9802680823163248, 0.9649236154363622, 0.9250239978878866, 0.9576368846099191, 0.5479210398078671, 0.430509388420467, 0.08210524676151325, 0.4105262338075662, 0.12315787014226987, 0.041052623380756624, 0.020526311690378312, 0.328420987046053, 0.9747310883959054, 0.8398564400126539, 0.1599726552405055, 0.9825936288374235, 0.9536201050963646, 0.8692852147715298, 0.9542476279624981, 0.96952146520728, 0.9400879614189904, 0.051277525168308566, 0.9765428490627271, 0.8282365919261399, 0.09938839103113678, 0.0331294636770456, 0.9384051665233594, 0.9708299809099435, 0.36327213339549225, 0.15392887008283568, 0.043100083623193994, 0.2216575729192834, 0.012314309606626855, 0.09851447685301484, 0.006157154803313428, 0.04925723842650742, 0.05541439322982085, 0.9460590507829458, 0.947594817205162, 0.8967752209862012, 0.9486923777587023, 0.9727491429732635, 0.9776705141168336, 0.9607404206766045, 0.22123127929465153, 0.30814356758897893, 0.13431899100032416, 0.023703351352998378, 0.11061563964732576, 0.15802234235332252, 0.007901117117666126, 0.031604468470664504, 0.4932967314124787, 0.10570644244553115, 0.1996677246193366, 0.09396128217380546, 0.09396128217380546, 0.941000010389713, 0.9782174616153274, 0.9116620792659879, 0.06931177470860507, 0.9010530712118658, 0.02122804398578033, 0.5837712096089591, 0.3927188137369361, 0.8849179117847622, 0.11418295635932416, 0.22414574594777403, 0.7471524864925801, 0.1726485283585532, 0.46861743411607304, 0.0863242641792766, 0.18498056609844987, 0.012332037739896658, 0.024664075479793317, 0.049328150959586634, 0.0635014028474523, 0.8890196398643322, 0.24141245930923608, 0.45983325582711637, 0.057479156978389546, 0.24141245930923608, 0.42553992328793766, 0.2340469578083657, 0.09929264876718545, 0.1631236372603761, 0.02127699616439688, 0.049646324383592726, 0.9677869564044624, 0.25786615056406603, 0.1217701266552534, 0.21488845880338836, 0.04297769176067767, 0.15042192116237185, 0.04297769176067767, 0.08595538352135534, 0.09311833214813496, 0.3875323177450775, 0.12917743924835917, 0.47365061057731694, 0.9119916286130174, 0.0636273229264896, 0.14055770273164322, 0.21083655409746482, 0.29517117573645074, 0.1967807838243005, 0.14055770273164322, 0.9541019101311339, 0.8239287188574536, 0.020095822411157403, 0.14736936434848763, 0.7210093082708543, 0.25447387350736034, 0.06650720531913733, 0.798086463829648, 0.13301441063827465, 0.977974512972251, 0.9413566680046479, 0.923813700380285, 0.3033667406316467, 0.5833975781377821, 0.09334361250204515, 0.8623721780887488, 0.1014555503633822, 0.9393842771985542, 0.9715312141154686, 0.9376986882020647, 0.9384016538448258, 0.3638902830643573, 0.6368079953626252, 0.9696840815392822, 0.9623927137668002, 0.9844381889066441, 0.2865969712208625, 0.12282727338036964, 0.573193942441725, 0.942731897678302, 0.94498897559886, 0.9192596313257315, 0.9729172147896162, 0.9585841584090786, 0.9451631570254577, 0.19191576153454726, 0.07676630461381889, 0.451002039606186, 0.2015115496112746, 0.038383152306909446, 0.028787364230182088, 0.855677283705786, 0.1305270432771538, 0.9002826870541214, 0.90935663922361, 0.7737712602246732, 0.17194916893881626, 0.6000624235212797, 0.4000416156808531, 0.9839451546333752, 0.9570121272682833, 0.11612107051535976, 0.25546635513379146, 0.32513899744300734, 0.08128474936075183, 0.09289685641228781, 0.023224214103071954, 0.11612107051535976, 0.9774439180450064, 0.9693505383010114, 0.9415766395294792, 0.949862684138554, 0.6716742980682224, 0.3022534341307001, 0.9517535334768947, 0.9617853193006458, 0.944828985043075, 0.47718939362835966, 0.29540295796041316, 0.037872174097488866, 0.04544660891698664, 0.04544660891698664, 0.06816991337547995, 0.02272330445849332, 0.16323998375396753, 0.12242998781547565, 0.19044664771296213, 0.47611661928240534, 0.05441332791798918, 0.2534011257709064, 0.025340112577090637, 0.5321423641189034, 0.10136045030836255, 0.07602033773127191, 0.480103801367317, 0.480103801367317, 0.049665910486274174, 0.9810578451572899, 0.9660324244032784, 0.9460754877232732, 0.943130052271576, 0.9431644743084989, 0.9483209389594673, 0.3315833573026914, 0.04043699479301115, 0.35584555417849806, 0.26688416563387357, 0.9273826751225336, 0.9504079482133766, 0.920309664075873, 0.9701295887998677, 0.9111669184110768, 0.09247529749200516, 0.29476501075576644, 0.10981441577175613, 0.5028344301127781, 0.9723596310156323, 0.34542940899890656, 0.4605725453318754, 0.17271470449945328, 0.9486535113279747, 0.9426132272436166, 0.8079329722526603, 0.16158659445053206, 0.9377764257509599, 0.9655547365917316, 0.10908148922189889, 0.8570688438863484, 0.031166139777685398, 0.938998086095682, 0.9372269466501055, 0.944828985043075, 0.958655914671688, 0.9625943537079165, 0.9735104849199854, 0.3210857420563219, 0.6582257712154599, 0.9714622330826942, 0.9333776916613608, 0.07266850630600066, 0.9083563288250083, 0.981676611679666, 0.7789784845150024, 0.009860487145759524, 0.009860487145759524, 0.19720974291519047, 0.9411814132462355, 0.21323118945507613, 0.08978155345476889, 0.16834041272769168, 0.32545813127353723, 0.06733616509107668, 0.13467233018215335, 0.961356779955295, 0.02471808364046586, 0.346053170966522, 0.19774466912372687, 0.4202074218879196, 0.490466504844216, 0.490466504844216, 0.9698444366983041, 0.9589539444452596, 0.9658117699366691, 0.9405422889787958, 0.9640485109469173, 0.9681096680668143, 0.6762754224806617, 0.05339016493268382, 0.24915410301919116, 0.01779672164422794, 0.9334503919088885, 0.8880707294394111, 0.12268682964423099, 0.8588078075096168, 0.12083688043026118, 0.06041844021513059, 0.8458581630118283, 0.2806619642526232, 0.7016549106315579, 0.9687134451501935, 0.5272944407354656, 0.006095889488271279, 0.0030479447441356393, 0.4328081536672608, 0.024383557953085114, 0.006095889488271279, 0.12459294345234492, 0.17443012083328288, 0.6977204833331315, 0.9758678727826808, 0.9618416789075283, 0.9883191928583391, 0.8480419366703734, 0.07709472151548849, 0.21628681792063814, 0.14419121194709208, 0.4145497343478898, 0.16221511344047862, 0.054071704480159535, 0.8967755280914751, 0.9506854991728565, 0.9296544386869965, 0.9799326213219084, 0.9709452618893933, 0.9837051151507996, 0.921247408549657, 0.9131581701436366, 0.9238154768376756, 0.057738467302354726, 0.7673176731454587, 0.20192570345933125, 0.053839319938270354, 0.6460718392592443, 0.1345982998456759, 0.16151795981481107, 0.9744534851671219, 0.5415461624091571, 0.44527128909197355, 0.9578068544366104, 0.9559679138427113, 0.9597682248067163, 0.05352222598109983, 0.4147972513535237, 0.08028333897164974, 0.013380556495274958, 0.2943722428960491, 0.026761112990549916, 0.10704445196219967, 0.9659246581180362, 0.6512504243780798, 0.3256252121890399, 0.9397889432952379, 0.9770480249031085, 0.314586500830447, 0.314586500830447, 0.0976302933611732, 0.010847810373463688, 0.24949963858966484, 0.20840064982401962, 0.13893376654934642, 0.46311255516448807, 0.16208939430757083, 0.07148603345345135, 0.9293184348948674, 0.5902388368807611, 0.2459328487003171, 0.06558209298675122, 0.09837313948012684, 0.9805945808336297, 0.9557620723108882, 0.8907493426206382, 0.026198510077077592, 0.052397020154155184, 0.0771863675033394, 0.5788977562750455, 0.3087454700133576, 0.9339579060318008, 0.5041832683402793, 0.47057105045092734, 0.7366068859222763, 0.25320861703578246, 0.952064244739022, 0.010470804680477102, 0.0314124140414313, 0.9004892025210307, 0.052354023402385506, 0.24770029130294755, 0.41283381883824594, 0.05160422735478074, 0.1548126820643422, 0.030962536412868443, 0.10320845470956148, 0.9152370197181291, 0.9470100190551488, 0.9754921743887515, 0.9349571219902133, 0.9449434648650562, 0.962961572119319, 0.9907130145357803, 0.9733946032997622, 0.9241079317899811, 0.4129951048498226, 0.5604933565819021, 0.019203000450215765, 0.30724800720345224, 0.49927801170560987, 0.15362400360172612, 0.05119707575584389, 0.8703502878493461, 0.9263225478325907, 0.9715145193789608, 0.9410636166932297, 0.9199675363494737, 0.9411860917091346, 0.027681943873798076, 0.923736358555775, 0.1001210062992823, 0.8510285535438996, 0.9742390826560324, 0.9606535371140135, 0.9485590012816443, 0.3413656389083873, 0.44916531435314117, 0.06288314400943976, 0.08084975658356541, 0.06288314400943976, 0.1844173612390759, 0.6667396906335821, 0.0283719017290886, 0.1134876069163544, 0.016762046590403548, 0.7542920965681597, 0.11733432613282484, 0.11733432613282484, 0.24738025497955954, 0.21100080571785962, 0.06548300867105988, 0.1091383477850998, 0.04365533911403992, 0.12369012748977977, 0.04365533911403992, 0.08731067822807984, 0.07275889852339987, 0.3214238686492326, 0.6574579131461576, 0.014610175847692393, 0.06982526624339778, 0.9077284611641712, 0.48862633827672614, 0.29012188835180613, 0.19850444992492, 0.9330475112773009, 0.04056728309901308, 0.09537970380004682, 0.11127632110005461, 0.0158966173000078, 0.0158966173000078, 0.47689851900023406, 0.22255264220010923, 0.0635864692000312, 0.9155891232067578, 0.9754729464661397, 0.9638622596388833, 0.4424693370101787, 0.06033672777411528, 0.12067345554823056, 0.36202036664469167, 0.9682463981552408, 0.9459970034222164, 0.9155629262107845, 0.9530726215531147, 0.9602839811371062, 0.9521176238896861, 0.9449372609516432, 0.028634462453080097, 0.961888889291746, 0.96385871874895, 0.4434881346230638, 0.5217507466153691, 0.9594069240816293, 0.17237329227863837, 0.8187731383235324, 0.9713099735133018, 0.0837971183490482, 0.09776330474055622, 0.11871258432781827, 0.23742516865563654, 0.05586474556603213, 0.11172949113206426, 0.09776330474055622, 0.06983093195754016, 0.1256956775235723, 0.9459837031861149, 0.38839168823777576, 0.5825875323566636, 0.9327535978410595, 0.9790858094810527, 0.977877765514977, 0.11763601513948745, 0.8234521059764122, 0.9097807328016922, 0.04788319646324696, 0.9216356521466414, 0.914426184400937, 0.969033428457217, 0.9623273879824629, 0.9553497913828087, 0.9418236890547059, 0.9738267856296033, 0.898664813814291, 0.4864587348071371, 0.5051686861458732, 0.9753753072011142, 0.7801205455146175, 0.14627260228399078, 0.9766561737888303, 0.9781198161670452, 0.9471196141429227, 0.9738077594869784, 0.22433738157600672, 0.769156736832023, 0.965339998923274, 0.3542719258998295, 0.0708543851799659, 0.5314078888497442, 0.27349096524765204, 0.2058534147025338, 0.09410441814972974, 0.18526807323228042, 0.055874498276402035, 0.0323483937389696, 0.04705220907486487, 0.06175602441076014, 0.044111446007685816, 0.11501896556083725, 0.6901137933650235, 0.11501896556083725, 0.0766793103738915, 0.9608194212049875, 0.9117561118186768, 0.0701350855245136, 0.05798495685358174, 0.0869774352803726, 0.8407818743769352, 0.9352354210725107, 0.10262300984519426, 0.8004594767925153, 0.08209840787615541, 0.9057301294986758, 0.9626105954647971, 0.928709339055987, 0.07143917992738362, 0.9287435033903018, 0.2187457439398342, 0.3899380652840523, 0.1046175297103555, 0.17119232134421808, 0.08559616067210904, 0.02853205355736968, 0.884964073838377, 0.07313239616595511, 0.19197253993563218, 0.11884014376967707, 0.1828309904148878, 0.1828309904148878, 0.018283099041488778, 0.22853873801860974, 0.1302911471319826, 0.859921571071085, 0.9817657916391479, 0.9790077446432676, 0.9051779999546631, 0.06765662769140501, 0.3653457895335871, 0.28415783630390107, 0.054125302153124014, 0.14884458092109104, 0.054125302153124014, 0.7819877361641283, 0.04115724927179623, 0.16462899708718493, 0.14859841000350005, 0.4643700312609377, 0.05572440375131252, 0.009287400625218753, 0.26933461813134385, 0.046437003126093765, 0.9703082749653086, 0.20604887643295633, 0.06439027388529885, 0.19317082165589655, 0.06439027388529885, 0.3090733146494345, 0.16741471210177702, 0.018608066824748234, 0.63267427204144, 0.09304033412374117, 0.24190486872172703, 0.9560977787240418, 0.9853086093492035, 0.9771967749770761, 0.13065282785862106, 0.5326615289620704, 0.015075326291379353, 0.1155775015672417, 0.04020087011034494, 0.16582858920517288, 0.005025108763793118, 0.9338560908356742, 0.9292164369719058, 0.059949447546574566, 0.9674667292679476, 0.031826611522011286, 0.2546128921760903, 0.5092257843521806, 0.20687297489307335, 0.565573937991329, 0.06284154866570323, 0.037704929199421935, 0.21366126546339098, 0.025136619466281294, 0.08797816813198453, 0.8990497342129927, 0.16860400752975296, 0.2922469463849051, 0.06463153621973863, 0.047771135466763336, 0.005620133584325099, 0.199514742243541, 0.028100667921625494, 0.08992213734920158, 0.07587180338838884, 0.03091073471378804, 0.1061906860792797, 0.8495254886342376, 0.9933526453127876, 0.985315597728906, 0.45133508009363854, 0.16298211225603612, 0.2632787967212891, 0.03761125667446988, 0.06268542779078312, 0.8961648755327605, 0.9553994956939973, 0.9454417673464823, 0.9624475050541994, 0.06618088385155596, 0.8603514900702275, 0.9303876055907521, 0.38065465476930405, 0.07613093095386081, 0.5329165166770257], \"Term\": [\"_\", \"aav\", \"ability\", \"able\", \"abp\", \"access\", \"accuracy\", \"accuracy\", \"accuracy\", \"acinetobacter_baumannii\", \"acquire\", \"action\", \"activity\", \"activity\", \"activity\", \"activity\", \"acute\", \"acute\", \"acute\", \"ad\", \"adult\", \"adult\", \"age\", \"age\", \"age\", \"age\", \"agent\", \"agent\", \"agent\", \"algorithm\", \"allograph\", \"also\", \"also\", \"also\", \"also\", \"also\", \"also\", \"also\", \"also\", \"alteration\", \"alternative\", \"alternative\", \"aml\", \"analysis\", \"analysis\", \"analysis\", \"analysis\", \"analysis\", \"analysis\", \"analysis\", \"analysis\", \"anti_cancer\", \"anti_cancer\", \"antibacterial\", \"antibacterial\", \"antibiotic\", \"antibiotic\", \"antibody\", \"antimicrobial\", \"apoptosis\", \"apoptosis\", \"application\", \"application\", \"approach\", \"approach\", \"approach\", \"approach\", \"approach\", \"arrest\", \"assay\", \"assay\", \"assay\", \"assay\", \"assist\", \"associate\", \"associate\", \"associate\", \"associate\", \"associate\", \"associate\", \"association\", \"autophagy\", \"available\", \"available\", \"average\", \"avibactam\", \"bacteria\", \"bacteria\", \"bacterial\", \"base\", \"base\", \"base\", \"base\", \"base\", \"base\", \"baumannii\", \"beneficial\", \"beta\", \"bind\", \"bind\", \"biofilm\", \"biology\", \"biosensor\", \"blood\", \"blood\", \"blood\", \"blood_pressure\", \"body\", \"body\", \"body\", \"bone_marrow\", \"bps\", \"brain\", \"brain\", \"breast_cancer\", \"burden\", \"burst\", \"cancer\", \"cancer\", \"candidate\", \"capsule\", \"carboplatin\", \"cardiac\", \"cardiac\", \"care\", \"case\", \"case\", \"case\", \"cd\", \"cell\", \"cell\", \"cell\", \"cell\", \"cell\", \"cell\", \"cerebral\", \"cerna\", \"challenge\", \"challenge\", \"change\", \"change\", \"change\", \"change\", \"channel\", \"characteristic\", \"characteristic\", \"characteristic\", \"chemotherapy\", \"chemotherapy\", \"chemotherapy\", \"chinese\", \"cholesterol\", \"cik\", \"cit\", \"clinical\", \"clinical\", \"clinical\", \"clinical\", \"clinical\", \"cluster\", \"collection\", \"combination\", \"combination\", \"commonly\", \"community\", \"compare\", \"compare\", \"compare\", \"compare\", \"compare\", \"compare\", \"compare\", \"compare\", \"compare\", \"compartment\", \"complication\", \"composite\", \"compound\", \"compound\", \"compute\", \"computer\", \"concentration\", \"concentration\", \"concentration\", \"concern\", \"conference\", \"control\", \"control\", \"control\", \"control\", \"control\", \"conventional\", \"converter\", \"copyright\", \"coronary\", \"cost\", \"cpe_production\", \"cpr\", \"creatinine\", \"criterion\", \"ctcs\", \"datum\", \"datum\", \"datum\", \"datum\", \"datum\", \"datum\", \"day\", \"day\", \"day\", \"decision\", \"decline\", \"decline\", \"decrease\", \"decrease\", \"decrease\", \"deformation\", \"dementia\", \"demographic\", \"demonstrate\", \"demonstrate\", \"demonstrate\", \"demonstrate\", \"demonstrate\", \"deposition\", \"describe\", \"describe\", \"describe\", \"design\", \"design\", \"detect\", \"detect\", \"detect\", \"detect\", \"detection\", \"detection\", \"detection\", \"determine\", \"determine\", \"determine\", \"determine\", \"develop\", \"develop\", \"develop\", \"develop\", \"develop\", \"develop\", \"development\", \"development\", \"development\", \"development\", \"development\", \"development\", \"diagnose\", \"different\", \"different\", \"different\", \"different\", \"different\", \"different\", \"differentiate\", \"differentiation\", \"diffusion\", \"disability\", \"disc\", \"discovery\", \"discuss\", \"discuss\", \"disease\", \"disease\", \"disease\", \"disparity\", \"displacement\", \"distinct\", \"diversity\", \"dna\", \"dopa\", \"doxorubicin\", \"drug\", \"drug\", \"drug\", \"drug\", \"dynamic\", \"dynamic\", \"ed\", \"effect\", \"effect\", \"effect\", \"effect\", \"effect\", \"effect\", \"effect\", \"efficacy\", \"efficacy\", \"efficacy\", \"efflux\", \"egfr\", \"embryo\", \"epcam\", \"epidemiological\", \"epithelial_cell\", \"equation\", \"error\", \"error\", \"esrd\", \"estimate\", \"etec\", \"european\", \"evaluation\", \"express\", \"expression\", \"expression\", \"expression\", \"expression\", \"expression\", \"external\", \"extract\", \"extract\", \"factor\", \"factor\", \"factor\", \"factor\", \"factor\", \"factor\", \"faculty\", \"field\", \"field\", \"film\", \"filter\", \"final\", \"find\", \"find\", \"find\", \"find\", \"find\", \"find\", \"fixation\", \"fluorescence\", \"fluoride_exposure\", \"follow\", \"follow\", \"follow\", \"follow\", \"follow\", \"food\", \"form\", \"form\", \"formation\", \"formation\", \"fracture\", \"frequency\", \"frequently\", \"function\", \"function\", \"function\", \"function\", \"function\", \"function\", \"function\", \"future\", \"future\", \"gain\", \"gan\", \"gene\", \"gene\", \"gene\", \"gene\", \"gene_expression\", \"gene_expression\", \"gene_therapy\", \"genome\", \"genome\", \"genome\", \"genomic\", \"genotype\", \"geriatric\", \"gfr\", \"glioma\", \"good\", \"good\", \"group\", \"group\", \"group\", \"group\", \"group\", \"group\", \"grow\", \"guideline\", \"guideline\", \"gut\", \"hand\", \"hbv\", \"heal\", \"healing\", \"health\", \"health\", \"healthcare\", \"healthy\", \"healthy\", \"healthy\", \"height\", \"hepatitis\", \"high\", \"high\", \"high\", \"high\", \"high\", \"high\", \"high\", \"high\", \"high\", \"highlight\", \"history\", \"hmg_cr\", \"hold\", \"hormone\", \"hospital\", \"hour\", \"however\", \"however\", \"however\", \"however\", \"however\", \"however\", \"however\", \"however\", \"human\", \"human\", \"human\", \"human\", \"human\", \"hydrogen\", \"hypertension\", \"ifn\", \"iii\", \"iii\", \"image\", \"image\", \"image\", \"impact\", \"impact\", \"importance\", \"importance\", \"important\", \"important\", \"important\", \"important\", \"important\", \"important\", \"important\", \"important_role\", \"important_role\", \"improve\", \"improve\", \"improve\", \"improve\", \"include\", \"include\", \"include\", \"include\", \"include\", \"include\", \"inclusion\", \"increase\", \"increase\", \"increase\", \"increase\", \"increase\", \"increase\", \"increase\", \"increase\", \"indicate\", \"indicate\", \"indicate\", \"individual\", \"individual\", \"induce\", \"induce\", \"induce\", \"induce\", \"induce\", \"infant\", \"infection\", \"infection\", \"infection\", \"inflammation\", \"inflammation\", \"inhibitor\", \"inhibitor\", \"inhibitor\", \"injection\", \"integrate\", \"intensity\", \"interaction\", \"interaction\", \"interaction\", \"interest\", \"interest\", \"internal\", \"intervention\", \"intestinal\", \"intracellular\", \"isolate\", \"isolate\", \"isolation\", \"issue\", \"kinase\", \"know\", \"know\", \"know\", \"la\", \"later\", \"leadership\", \"learning\", \"letter\", \"leukemia\", \"level\", \"level\", \"level\", \"level\", \"level\", \"level\", \"life\", \"life\", \"lifestyle\", \"linear\", \"lipid\", \"lipid\", \"live\", \"live\", \"load\", \"long\", \"low\", \"low\", \"low\", \"low\", \"low\", \"low\", \"low\", \"lower\", \"ltc\", \"mab\", \"machine\", \"male\", \"male\", \"man\", \"map\", \"marjoram\", \"may\", \"may\", \"may\", \"may\", \"may\", \"may\", \"may\", \"mechanism\", \"mechanism\", \"mechanism\", \"mechanism\", \"mechanism\", \"mediate\", \"mediate\", \"mediate\", \"mediate\", \"mediate\", \"medical\", \"medical\", \"medical\", \"medication\", \"member\", \"membrane\", \"memory\", \"metabolism\", \"metastasis\", \"method\", \"method\", \"method\", \"method\", \"metric\", \"microscopy\", \"migration\", \"mir\", \"ml\", \"model\", \"model\", \"model\", \"model\", \"modification\", \"molecular\", \"molecular\", \"molecular\", \"monitor\", \"morbidity\", \"mortality\", \"mortality\", \"motility\", \"motion\", \"mouse\", \"mouse\", \"mouse\", \"movement\", \"multidrug_resistant\", \"multocida\", \"muscle\", \"mutant\", \"natural\", \"need\", \"need\", \"neg\", \"nerve\", \"network\", \"network\", \"neuron\", \"new\", \"new\", \"new\", \"new\", \"noise\", \"non\", \"non\", \"non\", \"non\", \"non\", \"non\", \"nosocomial_infection\", \"obtain\", \"obtain\", \"obtain\", \"obtain\", \"old\", \"old\", \"older_adult\", \"opinion\", \"oral\", \"order\", \"organ\", \"outbreak\", \"outcome\", \"outcome\", \"outcome\", \"outcome\", \"overall_survival\", \"overview\", \"paper\", \"paper\", \"parameter\", \"parameter\", \"parameter\", \"part\", \"part\", \"pathogen\", \"patient\", \"patient\", \"patient\", \"patient\", \"patient\", \"patient\", \"pattern\", \"pattern\", \"pattern\", \"pcr\", \"pd\", \"pediatric\", \"percentage\", \"percentage\", \"perform\", \"perform\", \"perform\", \"perform\", \"perform\", \"perfringen\", \"perfringens_sporulation\", \"perfusion\", \"peripheral\", \"permeas\", \"perspective\", \"pfs\", \"phage\", \"phase\", \"phase\", \"phenotype\", \"phenotype\", \"play\", \"play\", \"play\", \"play\", \"policy\", \"population\", \"population\", \"positive\", \"possibility\", \"postoperative\", \"potential\", \"potential\", \"potential\", \"potential\", \"potential\", \"potential\", \"potential\", \"preclinical\", \"predict\", \"predict\", \"prepare\", \"presence\", \"present\", \"present\", \"present\", \"present\", \"present\", \"previously\", \"previously\", \"previously\", \"previously\", \"probe\", \"probe\", \"process\", \"process\", \"process\", \"process\", \"product\", \"prognostic\", \"program\", \"program\", \"program\", \"progression\", \"progression\", \"progression\", \"proliferation\", \"promote\", \"promote\", \"propose\", \"propose\", \"protect\", \"protein\", \"protein\", \"protein\", \"protein\", \"provide\", \"provide\", \"provide\", \"provide\", \"provide\", \"provide\", \"provider\", \"publish\", \"pump\", \"putative\", \"qsar\", \"rapid\", \"rare\", \"rat\", \"real_time\", \"receive\", \"receive\", \"receptor\", \"receptor\", \"receptor\", \"receptor\", \"recommend\", \"recommend\", \"recruitment\", \"refractory\", \"reg\", \"regeneration\", \"region\", \"region\", \"registration\", \"regulation\", \"regulation\", \"regulatory\", \"relapse\", \"release\", \"report\", \"report\", \"report\", \"report\", \"report\", \"research\", \"research\", \"research\", \"research\", \"response\", \"response\", \"response\", \"response\", \"result\", \"result\", \"result\", \"result\", \"result\", \"result\", \"result\", \"result\", \"result\", \"review\", \"review\", \"review\", \"rights_reserv\", \"rights_reserv\", \"risk\", \"risk\", \"risk\", \"rna\", \"rna\", \"role\", \"role\", \"role\", \"role\", \"role\", \"role\", \"role\", \"rxfp\", \"s\", \"safety\", \"sample\", \"sample\", \"sample\", \"sample\", \"scan\", \"segment\", \"segmentation\", \"select\", \"self\", \"sepsis\", \"serum\", \"serum\", \"service\", \"session\", \"set\", \"set\", \"setting\", \"severe\", \"severe\", \"shbg\", \"show\", \"show\", \"show\", \"show\", \"show\", \"show\", \"show\", \"show\", \"show\", \"significance\", \"significant\", \"significant\", \"significantly_higher\", \"simulation\", \"sirtuin\", \"size\", \"size\", \"solution\", \"solution\", \"space\", \"spatial\", \"spinal\", \"spo\", \"spore\", \"sporulation\", \"squamous_cell\", \"st\", \"stage\", \"stage\", \"stat\", \"statistical\", \"statistical\", \"status\", \"stent\", \"still\", \"stool\", \"strain\", \"strain\", \"stress\", \"structural\", \"structural\", \"structural\", \"study\", \"study\", \"study\", \"study\", \"study\", \"study\", \"study\", \"study\", \"study\", \"subject\", \"subject\", \"subject\", \"subject\", \"successful\", \"successfully\", \"successfully\", \"surgery\", \"surgery\", \"surgery\", \"survey\", \"survival\", \"survival\", \"survival\", \"suvr\", \"symptom\", \"syndrome\", \"syndrome\", \"synergistic\", \"system\", \"system\", \"system\", \"system\", \"system\", \"system\", \"tailor\", \"target\", \"target\", \"target\", \"target\", \"target\", \"target\", \"target\", \"technique\", \"technique\", \"technology\", \"term\", \"terminal\", \"test\", \"test\", \"test\", \"test\", \"test\", \"test\", \"therapeutic\", \"therapeutic\", \"therapeutic\", \"therapy\", \"therapy\", \"therapy\", \"therapy\", \"therapy\", \"therapy\", \"third\", \"time\", \"time\", \"time\", \"time\", \"time\", \"time\", \"tissue\", \"tissue\", \"tissue\", \"tissue\", \"train\", \"transmission\", \"transplant\", \"treatment\", \"treatment\", \"treatment\", \"treatment\", \"treatment\", \"treatment\", \"treatment\", \"treatment_option\", \"trial\", \"trial\", \"trigger\", \"tumor\", \"tumor\", \"tumor\", \"tumor\", \"type\", \"type\", \"type\", \"type\", \"type\", \"type\", \"united_state\", \"use\", \"use\", \"use\", \"use\", \"use\", \"use\", \"use\", \"use\", \"use\", \"use\", \"validation\", \"validation\", \"vector\", \"weight\", \"well\", \"well\", \"well\", \"well\", \"well\", \"wind\", \"word\", \"worldwide\", \"wound\", \"write\", \"write\", \"writer\", \"year\", \"year\", \"year\"]}, \"R\": 30, \"lambda.step\": 0.01, \"plot.opts\": {\"xlab\": \"PC1\", \"ylab\": \"PC2\"}, \"topic.order\": [7, 6, 2, 5, 9, 4, 8, 10, 3, 1]};\n",
       "\n",
       "function LDAvis_load_lib(url, callback){\n",
       "  var s = document.createElement('script');\n",
       "  s.src = url;\n",
       "  s.async = true;\n",
       "  s.onreadystatechange = s.onload = callback;\n",
       "  s.onerror = function(){console.warn(\"failed to load library \" + url);};\n",
       "  document.getElementsByTagName(\"head\")[0].appendChild(s);\n",
       "}\n",
       "\n",
       "if(typeof(LDAvis) !== \"undefined\"){\n",
       "   // already loaded: just create the visualization\n",
       "   !function(LDAvis){\n",
       "       new LDAvis(\"#\" + \"ldavis_el59381396993505131288460934920\", ldavis_el59381396993505131288460934920_data);\n",
       "   }(LDAvis);\n",
       "}else if(typeof define === \"function\" && define.amd){\n",
       "   // require.js is available: use it to load d3/LDAvis\n",
       "   require.config({paths: {d3: \"https://cdnjs.cloudflare.com/ajax/libs/d3/3.5.5/d3.min\"}});\n",
       "   require([\"d3\"], function(d3){\n",
       "      window.d3 = d3;\n",
       "      LDAvis_load_lib(\"https://cdn.rawgit.com/bmabey/pyLDAvis/files/ldavis.v1.0.0.js\", function(){\n",
       "        new LDAvis(\"#\" + \"ldavis_el59381396993505131288460934920\", ldavis_el59381396993505131288460934920_data);\n",
       "      });\n",
       "    });\n",
       "}else{\n",
       "    // require.js not available: dynamically load d3 & LDAvis\n",
       "    LDAvis_load_lib(\"https://cdnjs.cloudflare.com/ajax/libs/d3/3.5.5/d3.min.js\", function(){\n",
       "         LDAvis_load_lib(\"https://cdn.rawgit.com/bmabey/pyLDAvis/files/ldavis.v1.0.0.js\", function(){\n",
       "                 new LDAvis(\"#\" + \"ldavis_el59381396993505131288460934920\", ldavis_el59381396993505131288460934920_data);\n",
       "            })\n",
       "         });\n",
       "}\n",
       "</script>"
      ],
      "text/plain": [
       "PreparedData(topic_coordinates=            Freq  cluster  topics         x         y\n",
       "topic                                                \n",
       "6      17.973279        1       1  0.135416 -0.172359\n",
       "5      16.385473        1       2  0.026530 -0.210404\n",
       "1       9.855928        1       3  0.055530  0.070140\n",
       "4       9.765214        1       4  0.133210  0.019752\n",
       "8       9.025351        1       5 -0.205120 -0.005654\n",
       "3       8.106474        1       6  0.073063  0.091050\n",
       "7       7.833628        1       7 -0.177917 -0.096914\n",
       "9       7.490037        1       8  0.068910  0.030309\n",
       "2       6.821465        1       9  0.037572  0.192654\n",
       "0       6.743152        1      10 -0.147195  0.081426, topic_info=     Category        Freq             Term       Total  loglift  logprob\n",
       "term                                                                    \n",
       "199   Default  328.000000          patient  328.000000  30.0000  30.0000\n",
       "559   Default  244.000000             cell  244.000000  29.0000  29.0000\n",
       "352   Default  173.000000            model  173.000000  28.0000  28.0000\n",
       "871   Default   95.000000          protein   95.000000  27.0000  27.0000\n",
       "244   Default  123.000000           cancer  123.000000  26.0000  26.0000\n",
       "759   Default  149.000000        infection  149.000000  25.0000  25.0000\n",
       "373   Default   68.000000               cd   68.000000  24.0000  24.0000\n",
       "264   Default  186.000000          disease  186.000000  23.0000  23.0000\n",
       "417   Default  128.000000             drug  128.000000  22.0000  22.0000\n",
       "24    Default   94.000000            image   94.000000  21.0000  21.0000\n",
       "692   Default  113.000000             gene  113.000000  20.0000  20.0000\n",
       "34    Default  123.000000           method  123.000000  19.0000  19.0000\n",
       "1346  Default   62.000000           strain   62.000000  18.0000  18.0000\n",
       "1177  Default   65.000000          isolate   65.000000  17.0000  17.0000\n",
       "16    Default  163.000000           effect  163.000000  16.0000  16.0000\n",
       "41    Default  101.000000              new  101.000000  15.0000  15.0000\n",
       "329   Default  199.000000        treatment  199.000000  14.0000  14.0000\n",
       "91    Default  156.000000             base  156.000000  13.0000  13.0000\n",
       "400   Default   93.000000         approach   93.000000  12.0000  12.0000\n",
       "885   Default   81.000000         activity   81.000000  11.0000  11.0000\n",
       "443   Default   64.000000            mouse   64.000000  10.0000  10.0000\n",
       "310   Default   83.000000       population   83.000000   9.0000   9.0000\n",
       "1162  Default  127.000000          control  127.000000   8.0000   8.0000\n",
       "87    Default  355.000000              use  355.000000   7.0000   7.0000\n",
       "234   Default   95.000000              age   95.000000   6.0000   6.0000\n",
       "408   Default  128.000000         clinical  128.000000   5.0000   5.0000\n",
       "1313  Default   43.000000       antibiotic   43.000000   4.0000   4.0000\n",
       "580   Default   48.000000         survival   48.000000   3.0000   3.0000\n",
       "1904  Default   35.000000              mir   35.000000   2.0000   2.0000\n",
       "7431  Default   34.000000                s   34.000000   1.0000   1.0000\n",
       "...       ...         ...              ...         ...      ...      ...\n",
       "8109  Topic10   12.988083        multocida   13.759104   2.6390  -5.6113\n",
       "8108  Topic10   12.988083         marjoram   13.759104   2.6390  -5.6113\n",
       "7741  Topic10   12.335313             rxfp   13.106316   2.6360  -5.6628\n",
       "3526  Topic10   12.269970      compartment   13.041210   2.6357  -5.6682\n",
       "1954  Topic10   11.890418          history   12.663640   2.6336  -5.6996\n",
       "2065  Topic10   11.131503        real_time   11.903371   2.6296  -5.7655\n",
       "3155  Topic10   10.801317               ed   11.573549   2.6276  -5.7956\n",
       "3872  Topic10   10.197892              ifn   10.968977   2.6238  -5.8531\n",
       "3172  Topic10    9.011577     regeneration    9.782954   2.6145  -5.9768\n",
       "2934  Topic10    8.919281      synergistic    9.690512   2.6137  -5.9871\n",
       "2181  Topic10    8.865352    proliferation    9.636409   2.6132  -5.9932\n",
       "3171  Topic10    8.805407          prepare    9.576618   2.6127  -5.9999\n",
       "5560  Topic10    8.431987              hbv    9.202963   2.6091  -6.0433\n",
       "2558  Topic10   24.033450          extract   28.549537   2.5244  -4.9959\n",
       "4288  Topic10   12.479129    antibacterial   17.150350   2.3787  -5.6513\n",
       "1054  Topic10   17.319244            assay   30.202128   2.1405  -5.3235\n",
       "1658  Topic10   14.651964  gene_expression   23.029157   2.2445  -5.4907\n",
       "692   Topic10   36.382818             gene  113.924484   1.5552  -4.5812\n",
       "13    Topic10   16.501642           detect   35.731778   1.9241  -5.3719\n",
       "542   Topic10   25.421775           target  109.390645   1.2373  -4.9397\n",
       "16    Topic10   28.784937           effect  163.259582   0.9612  -4.8155\n",
       "1268  Topic10   16.984594           obtain   40.456211   1.8287  -5.3430\n",
       "756   Topic10   21.054534       expression   77.929839   1.3879  -5.1282\n",
       "885   Topic10   18.656762         activity   81.714148   1.2196  -5.2491\n",
       "1391  Topic10   16.388042            group   48.717958   1.6071  -5.3788\n",
       "559   Topic10   22.451885             cell  244.232997   0.3099  -5.0639\n",
       "72    Topic10   18.213122             show  143.203015   0.6345  -5.2732\n",
       "1443  Topic10   14.394503          promote   29.751086   1.9706  -5.5085\n",
       "427   Topic10   14.501346           factor   63.847214   1.2144  -5.5011\n",
       "82    Topic10   14.713755            study  340.047796  -0.4437  -5.4865\n",
       "\n",
       "[587 rows x 6 columns], token_table=      Topic      Freq                     Term\n",
       "term                                          \n",
       "8094      5  0.977878                        _\n",
       "929       2  0.987262                      aav\n",
       "1530      2  0.973534                  ability\n",
       "2072      8  0.869111                     able\n",
       "7803      4  0.935233                      abp\n",
       "4340      1  0.978882                   access\n",
       "1544      4  0.166276                 accuracy\n",
       "1544      6  0.631847                 accuracy\n",
       "1544      9  0.166276                 accuracy\n",
       "2916      9  0.968540  acinetobacter_baumannii\n",
       "981       1  0.962503                  acquire\n",
       "1824      5  0.930971                   action\n",
       "885       1  0.061189                 activity\n",
       "885       2  0.097902                 activity\n",
       "885       5  0.599651                 activity\n",
       "885      10  0.232518                 activity\n",
       "1381      4  0.559589                    acute\n",
       "1381      7  0.267630                    acute\n",
       "1381      9  0.145980                    acute\n",
       "1714      4  0.971024                       ad\n",
       "614       1  0.759758                    adult\n",
       "614       3  0.211044                    adult\n",
       "234       1  0.346730                      age\n",
       "234       3  0.441293                      age\n",
       "234       4  0.178618                      age\n",
       "234       9  0.021014                      age\n",
       "397       2  0.556283                    agent\n",
       "397       7  0.107668                    agent\n",
       "397       9  0.323003                    agent\n",
       "2001      8  0.942054                algorithm\n",
       "...     ...       ...                      ...\n",
       "1517      9  0.899050             united_state\n",
       "87        1  0.168604                      use\n",
       "87        2  0.292247                      use\n",
       "87        3  0.064632                      use\n",
       "87        4  0.047771                      use\n",
       "87        5  0.005620                      use\n",
       "87        6  0.199515                      use\n",
       "87        7  0.028101                      use\n",
       "87        8  0.089922                      use\n",
       "87        9  0.075872                      use\n",
       "87       10  0.030911                      use\n",
       "1560      6  0.106191               validation\n",
       "1560      9  0.849525               validation\n",
       "977       2  0.993353                   vector\n",
       "674       3  0.985316                   weight\n",
       "612       1  0.451335                     well\n",
       "612       3  0.162982                     well\n",
       "612       5  0.263279                     well\n",
       "612       8  0.037611                     well\n",
       "612      10  0.062685                     well\n",
       "4884      3  0.896165                     wind\n",
       "2070     10  0.955399                     word\n",
       "806       1  0.945442                worldwide\n",
       "5101     10  0.962448                    wound\n",
       "731       3  0.066181                    write\n",
       "731       6  0.860351                    write\n",
       "2605      6  0.930388                   writer\n",
       "337       1  0.380655                     year\n",
       "337       2  0.076131                     year\n",
       "337       4  0.532917                     year\n",
       "\n",
       "[1003 rows x 3 columns], R=30, lambda_step=0.01, plot_opts={'xlab': 'PC1', 'ylab': 'PC2'}, topic_order=[7, 6, 2, 5, 9, 4, 8, 10, 3, 1])"
      ]
     },
     "execution_count": 23,
     "metadata": {},
     "output_type": "execute_result"
    }
   ],
   "source": [
    "pyLDAvis.enable_notebook()\n",
    "vis = pyLDAvis.gensim.prepare(lda_model, corpus, id2word)\n",
    "vis"
   ]
  },
  {
   "cell_type": "code",
   "execution_count": 24,
   "metadata": {},
   "outputs": [
    {
     "name": "stdout",
     "output_type": "stream",
     "text": [
      "\n",
      "Perplexity:  -8.353122123495774\n",
      "\n",
      "Coherence Score:  0.3527643155174926\n"
     ]
    }
   ],
   "source": [
    "# Compute Perplexity\n",
    "print('\\nPerplexity: ', lda_model.log_perplexity(corpus))  # a measure of how good the model is. lower the better.\n",
    "\n",
    "# Compute Coherence Score\n",
    "coherence_model_lda = CoherenceModel(model=lda_model, texts=data_lemmatized, dictionary=id2word, coherence='c_v')\n",
    "coherence_lda = coherence_model_lda.get_coherence()\n",
    "print('\\nCoherence Score: ', coherence_lda)"
   ]
  },
  {
   "cell_type": "code",
   "execution_count": null,
   "metadata": {},
   "outputs": [],
   "source": []
  }
 ],
 "metadata": {
  "kernelspec": {
   "display_name": "Python 3",
   "language": "python",
   "name": "python3"
  },
  "language_info": {
   "codemirror_mode": {
    "name": "ipython",
    "version": 3
   },
   "file_extension": ".py",
   "mimetype": "text/x-python",
   "name": "python",
   "nbconvert_exporter": "python",
   "pygments_lexer": "ipython3",
   "version": "3.6.7"
  }
 },
 "nbformat": 4,
 "nbformat_minor": 2
}
