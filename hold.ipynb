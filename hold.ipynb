{
 "cells": [
  {
   "cell_type": "markdown",
   "metadata": {},
   "source": [
    "# NLP Analysis of Scientific Abstracts\n",
    "---\n",
    "####  US National Library of Medicine National Institutes of Health \n",
    "#### The National Center for Biotechnology Information \n",
    "#### PubMed"
   ]
  },
  {
   "cell_type": "code",
   "execution_count": 1,
   "metadata": {},
   "outputs": [],
   "source": [
    "# Import custom module for calling abstracts from a key word or phrase\n",
    "from lib.get_abstracts import get_abstracts"
   ]
  },
  {
   "cell_type": "code",
   "execution_count": 2,
   "metadata": {},
   "outputs": [],
   "source": [
    "# Import standard analysis tools\n",
    "import numpy as np\n",
    "import pandas as pd\n",
    "import matplotlib.pyplot as plt\n",
    "%matplotlib inline"
   ]
  },
  {
   "cell_type": "code",
   "execution_count": 3,
   "metadata": {},
   "outputs": [],
   "source": [
    "# Import tools for NLP \n",
    "import scipy\n",
    "import re\n",
    "from sklearn.feature_extraction.text import TfidfVectorizer\n",
    "from sklearn.decomposition import TruncatedSVD\n",
    "from sklearn.pipeline import make_pipeline\n",
    "from sklearn.preprocessing import Normalizer\n",
    "from sklearn.decomposition import LatentDirichletAllocation as LDA\n",
    "from sklearn.decomposition import NMF\n",
    "\n",
    "import gensim\n",
    "import gensim.corpora as corpora\n",
    "from gensim.utils import simple_preprocess\n",
    "from gensim.models import CoherenceModel\n",
    "\n",
    "import pyLDAvis\n",
    "import pyLDAvis.gensim"
   ]
  },
  {
   "cell_type": "code",
   "execution_count": 4,
   "metadata": {},
   "outputs": [],
   "source": [
    "# Get abstracts and create csv of abstracts\n",
    "# API key obtained from NCBI\n",
    "#  get_abstracts('gene therapy', 1000, 'ragorham1@gmail.com', \n",
    "#                '3ffbbb6bd110815d69e4aa14b7c26d72ab09')"
   ]
  },
  {
   "cell_type": "code",
   "execution_count": 12,
   "metadata": {},
   "outputs": [],
   "source": [
    "# Process abstracts \n",
    "df = pd.read_csv('./data/gene therapy.csv', header=-1, \n",
    "                 names=['pmid', 'term', 'abstract'])\n",
    "df = df.dropna()\n",
    "\n",
    "abstracts = list(df.abstract)\n",
    "\n",
    "# Make tf-idf matrix\n",
    "vectorizer = TfidfVectorizer(stop_words='english')\n",
    "abstracts_tfidf = vectorizer.fit_transform(abstracts)"
   ]
  },
  {
   "cell_type": "code",
   "execution_count": 26,
   "metadata": {},
   "outputs": [
    {
     "data": {
      "text/plain": [
       "(1, 98)"
      ]
     },
     "execution_count": 26,
     "metadata": {},
     "output_type": "execute_result"
    }
   ],
   "source": [
    "import guidedlda\n",
    "from scipy import sparse\n",
    "xx = sparse.coo_matrix(abstracts)\n",
    "# X = guidedlda.datasets.load_data(xx)\n",
    "# vocab = guidedlda.datasets.load_vocab(abstracts)\n",
    "# word2id = dict((v, idx) for idx, v in enumerate(vocab))\n",
    "\n",
    "xx.shape"
   ]
  },
  {
   "cell_type": "code",
   "execution_count": 13,
   "metadata": {},
   "outputs": [],
   "source": [
    "#  Make the wors list\n",
    "terms = vectorizer.get_feature_names()\n",
    "\n",
    "# Number of topics\n",
    "ntopics=10\n",
    "\n",
    "# Linking words to topics\n",
    "def word_topic(tfidf,solution, wordlist):\n",
    "    \n",
    "    # Loading scores for each word on each topic/component.\n",
    "    words_by_topic=tfidf.T * solution\n",
    "\n",
    "    # Linking the loadings to the words in an easy-to-read way.\n",
    "    components=pd.DataFrame(words_by_topic,index=wordlist)\n",
    "    \n",
    "    return components\n",
    "# Extracts the top N words and their loadings for each topic.\n",
    "def top_words(components, n_top_words):\n",
    "    n_topics = range(components.shape[1])\n",
    "    index= np.repeat(n_topics, n_top_words, axis=0)\n",
    "    topwords=pd.Series(index=index)\n",
    "    for column in range(components.shape[1]):\n",
    "        # Sort the column so that highest loadings are at the top.\n",
    "        sortedwords=components.iloc[:,column].sort_values(ascending=False)\n",
    "        # Choose the N highest loadings.\n",
    "        chosen=sortedwords[:n_top_words]\n",
    "        # Combine loading and index into a string.\n",
    "        chosenlist=chosen.index +\" \"+round(chosen,2).map(str) \n",
    "        topwords.loc[column]=chosenlist\n",
    "    return(topwords)\n",
    "\n",
    "# Number of words to look at for each topic.\n",
    "n_top_words = 10"
   ]
  },
  {
   "cell_type": "code",
   "execution_count": 14,
   "metadata": {},
   "outputs": [],
   "source": [
    "svd= TruncatedSVD(ntopics)\n",
    "lsa = make_pipeline(svd, Normalizer(copy=False))\n",
    "abstracts_lsa = lsa.fit_transform(abstracts_tfidf)\n",
    "\n",
    "components_lsa = word_topic(abstracts_tfidf, abstracts_lsa, terms)\n",
    "\n",
    "topwords=pd.DataFrame()\n",
    "topwords['LSA']=top_words(components_lsa, n_top_words)    "
   ]
  },
  {
   "cell_type": "code",
   "execution_count": 8,
   "metadata": {},
   "outputs": [
    {
     "name": "stderr",
     "output_type": "stream",
     "text": [
      "/usr/local/lib/python3.6/dist-packages/sklearn/decomposition/online_lda.py:294: DeprecationWarning: n_topics has been renamed to n_components in version 0.19 and will be removed in 0.21\n",
      "  DeprecationWarning)\n",
      "/usr/local/lib/python3.6/dist-packages/sklearn/decomposition/online_lda.py:536: DeprecationWarning: The default value for 'learning_method' will be changed from 'online' to 'batch' in the release 0.20. This warning was introduced in 0.18.\n",
      "  DeprecationWarning)\n"
     ]
    }
   ],
   "source": [
    "lda = LDA(n_topics=ntopics, \n",
    "          doc_topic_prior=None, # Prior = 1/n_documents\n",
    "          topic_word_prior=1/ntopics,\n",
    "          learning_decay=0.7, # Convergence rate.\n",
    "          learning_offset=10.0, # Causes earlier iterations to have less influence on the learning\n",
    "          max_iter=10, # when to stop even if the model is not converging (to prevent running forever)\n",
    "          evaluate_every=-1, # Do not evaluate perplexity, as it slows training time.\n",
    "          mean_change_tol=0.001, # Stop updating the document topic distribution in the E-step when mean change is < tol\n",
    "          max_doc_update_iter=100, # When to stop updating the document topic distribution in the E-step even if tol is not reached\n",
    "          n_jobs=-1, # Use all available CPUs to speed up processing time.\n",
    "          verbose=0, # amount of output to give while iterating\n",
    "          random_state=0\n",
    "         )\n",
    "\n",
    "abstracts_lda = lda.fit_transform(abstracts_tfidf) \n",
    "\n",
    "components_lda = word_topic(abstracts_tfidf, abstracts_lda, terms)\n",
    "\n",
    "topwords['LDA']=top_words(components_lda, n_top_words)"
   ]
  },
  {
   "cell_type": "code",
   "execution_count": 19,
   "metadata": {},
   "outputs": [
    {
     "data": {
      "text/plain": [
       "array([0.15816771, 0.15816771, 0.15816771, ..., 0.1973093 , 0.1973093 ,\n",
       "       0.1973093 ])"
      ]
     },
     "execution_count": 19,
     "metadata": {},
     "output_type": "execute_result"
    }
   ],
   "source": [
    "abstracts_tfidf.data"
   ]
  },
  {
   "cell_type": "code",
   "execution_count": 9,
   "metadata": {},
   "outputs": [],
   "source": [
    "nmf = NMF(alpha=0.0, \n",
    "          init='nndsvdar', # how starting value are calculated\n",
    "          l1_ratio=0.0, # Sets whether regularization is L2 (0), L1 (1), or a combination (values between 0 and 1)\n",
    "          max_iter=200, # when to stop even if the model is not converging (to prevent running forever)\n",
    "          n_components=ntopics, \n",
    "          random_state=0, \n",
    "          solver='cd', # Use Coordinate Descent to solve\n",
    "          tol=0.0001, # model will stop if tfidf-WH <= tol\n",
    "          verbose=0 # amount of output to give while iterating\n",
    "         )\n",
    "abstracts_nmf = nmf.fit_transform(abstracts_tfidf) \n",
    "\n",
    "components_nmf = word_topic(abstracts_tfidf, abstracts_nmf, terms)\n",
    "\n",
    "topwords['NNMF']=top_words(components_nmf, n_top_words)"
   ]
  },
  {
   "cell_type": "code",
   "execution_count": 10,
   "metadata": {},
   "outputs": [],
   "source": [
    "# for topic in range(ntopics):\n",
    "#     print('Topic {}:'.format(topic))\n",
    "#     print(topwords.loc[topic])"
   ]
  },
  {
   "cell_type": "code",
   "execution_count": 11,
   "metadata": {},
   "outputs": [
    {
     "data": {
      "text/html": [
       "\n",
       "<link rel=\"stylesheet\" type=\"text/css\" href=\"https://cdn.rawgit.com/bmabey/pyLDAvis/files/ldavis.v1.0.0.css\">\n",
       "\n",
       "\n",
       "<div id=\"ldavis_el28911400218847391604871890412\"></div>\n",
       "<script type=\"text/javascript\">\n",
       "\n",
       "var ldavis_el28911400218847391604871890412_data = {\"mdsDat\": {\"Freq\": [20.69344627464488, 19.060553631834566, 13.012009981385011, 11.522482746931823, 9.065029393524915, 8.942206797821498, 8.417129206203079, 4.873225648024842, 2.224769539419745, 2.1891467802096463], \"cluster\": [1, 1, 1, 1, 1, 1, 1, 1, 1, 1], \"topics\": [1, 2, 3, 4, 5, 6, 7, 8, 9, 10], \"x\": [124.36480712890625, 31.46337127685547, -56.12746047973633, 145.24588012695312, -15.510025024414062, 96.9034423828125, -104.47014617919922, -83.5962142944336, 9.307806968688965, 56.28688049316406], \"y\": [-3.0411839485168457, 68.11788940429688, 146.90667724609375, 98.68245697021484, -128.050048828125, -103.18891906738281, -54.96733093261719, 46.7592887878418, -24.40066146850586, 171.7655487060547]}, \"tinfo\": {\"Category\": [\"Default\", \"Default\", \"Default\", \"Default\", \"Default\", \"Default\", \"Default\", \"Default\", \"Default\", \"Default\", \"Topic1\", \"Topic1\", \"Topic1\", \"Topic1\", \"Topic1\", \"Topic1\", \"Topic1\", \"Topic1\", \"Topic1\", \"Topic1\", \"Topic1\", \"Topic1\", \"Topic1\", \"Topic2\", \"Topic2\", \"Topic2\", \"Topic2\", \"Topic2\", \"Topic2\", \"Topic2\", \"Topic2\", \"Topic2\", \"Topic2\", \"Topic2\", \"Topic2\", \"Topic2\", \"Topic2\", \"Topic2\", \"Topic3\", \"Topic3\", \"Topic3\", \"Topic3\", \"Topic3\", \"Topic3\", \"Topic3\", \"Topic3\", \"Topic3\", \"Topic3\", \"Topic3\", \"Topic4\", \"Topic4\", \"Topic4\", \"Topic4\", \"Topic4\", \"Topic4\", \"Topic4\", \"Topic4\", \"Topic4\", \"Topic4\", \"Topic4\", \"Topic4\", \"Topic4\", \"Topic4\", \"Topic4\", \"Topic5\", \"Topic5\", \"Topic5\", \"Topic5\", \"Topic5\", \"Topic5\", \"Topic5\", \"Topic5\", \"Topic5\", \"Topic5\", \"Topic5\", \"Topic5\", \"Topic5\", \"Topic5\", \"Topic6\", \"Topic6\", \"Topic6\", \"Topic6\", \"Topic6\", \"Topic6\", \"Topic6\", \"Topic6\", \"Topic6\", \"Topic6\", \"Topic6\", \"Topic6\", \"Topic6\", \"Topic7\", \"Topic7\", \"Topic7\", \"Topic7\", \"Topic7\", \"Topic7\", \"Topic7\", \"Topic7\", \"Topic7\", \"Topic7\", \"Topic7\", \"Topic7\", \"Topic7\", \"Topic7\", \"Topic8\", \"Topic8\", \"Topic8\", \"Topic8\", \"Topic8\", \"Topic8\", \"Topic8\", \"Topic8\", \"Topic8\", \"Topic8\", \"Topic9\", \"Topic9\", \"Topic9\", \"Topic9\", \"Topic9\", \"Topic9\", \"Topic9\", \"Topic9\", \"Topic9\", \"Topic9\", \"Topic9\", \"Topic9\", \"Topic9\", \"Topic9\", \"Topic10\", \"Topic10\", \"Topic10\", \"Topic10\", \"Topic10\", \"Topic10\", \"Topic10\", \"Topic10\", \"Topic10\", \"Topic10\", \"Topic10\", \"Topic10\"], \"Freq\": [0.0, 0.0, 0.0, 0.0, 0.0, 0.0, 0.0, 0.0, 0.0, 0.0, 0.12731407832827332, 0.13966930713237644, 0.1021207336399347, 0.10417309133640808, 0.13018703438165713, 0.09628377072236985, 0.13515633150912248, 0.08691011530414418, 0.09278408386313591, 0.08737776318137054, 0.15211321883753437, 0.11842194006592449, 0.10256723288717734, 0.09627381767553722, 0.10348951132822952, 0.09195990552218392, 0.07908492541872207, 0.08797206153280762, 0.08207272765610424, 0.0842399201767448, 0.07933144462184513, 0.08430598948236183, 0.07787146022282074, 0.08369442762854298, 0.09391048643541278, 0.09322967029632444, 0.08700674940655956, 0.08412450315271411, 0.06512531481098215, 0.05883259967737217, 0.0591466653311497, 0.05612836475874897, 0.05270445177841782, 0.05112614031643351, 0.046239683391450924, 0.05129687867771513, 0.049719973482104024, 0.0508697436485332, 0.06604829757038844, 0.05986630423247142, 0.0870395428802519, 0.05391532949009659, 0.054555978172949396, 0.052385876362685976, 0.047940223328624854, 0.04613130690238857, 0.04674834778567395, 0.04384431005736422, 0.042985022826510365, 0.0533081336416453, 0.048120287821124305, 0.06359674808152878, 0.049923765598608345, 0.04817172943358688, 0.043962668869033064, 0.0426077183119455, 0.03989263122101292, 0.03965023638454241, 0.03682573619486757, 0.036435912806091604, 0.033257863832556016, 0.03310376068710605, 0.033542009807423764, 0.03172964145166999, 0.032616524609612015, 0.038487606562472174, 0.03350665819982192, 0.03341149904985848, 0.046824262973807554, 0.04099815723521642, 0.04059995864677303, 0.04124627326729847, 0.039011883648115545, 0.03812363433895516, 0.03400871440823912, 0.033676084592235395, 0.03630029036602237, 0.032610873489038926, 0.03467399121118379, 0.03803548995073878, 0.03446292624225261, 0.0634483798505876, 0.04433527930661919, 0.04070905744095723, 0.04030893292780604, 0.03753659795620779, 0.037885301515217344, 0.03635794374154002, 0.03226633195489883, 0.029443506804395402, 0.03020833389863945, 0.031399147627154705, 0.03214152028673287, 0.03280322148505428, 0.03365595350476639, 0.023143614373094215, 0.02454297275738994, 0.01891139395013313, 0.018569897042248314, 0.017995746991629133, 0.018143144105695556, 0.0170842728142293, 0.01796555450400664, 0.0167275843872941, 0.01678483807644979, 0.010662768440301361, 0.009071488882191461, 0.00680029608009528, 0.005999059992066261, 0.0058479539601215555, 0.0054514410609230665, 0.00624284119294847, 0.005669004064586302, 0.005715686742202069, 0.005374440045857507, 0.0058759455779729235, 0.006447096844302313, 0.00593367500865328, 0.005986304186517254, 0.009468706700151796, 0.008272658806808386, 0.008446424042781836, 0.00807433694502524, 0.007848352555739997, 0.007781107697082329, 0.007088684519563024, 0.0070195625469014755, 0.006907949326649206, 0.007595657966546947, 0.007422890441509574, 0.007210100412961879], \"Term\": [\"gba\", \"melanoma\", \"bladder\", \"pd\", \"areas\", \"subtype\", \"steap1\", \"epidemiological\", \"variants\", \"chd1\", \"viral\", \"vector\", \"vein\", \"crispr\", \"delivery\", \"mdx\", \"vectors\", \"prevent\", \"gucy2c\", \"protocol\", \"gene\", \"therapy\", \"cells\", \"catenin\", \"sub\", \"cervical\", \"redox\", \"gan\", \"bm\", \"rats\", \"beta\", \"brain\", \"copper\", \"nafld\", \"mir\", \"3p\", \"cancer\", \"expression\", \"ca\", \"pump\", \"baumannii\", \"arrestins\", \"hiv\", \"multidrug\", \"marjoram\", \"isolates\", \"multilayer\", \"repair\", \"sup\", \"apl\", \"aav\", \"inner\", \"ear\", \"nphp5\", \"astrocytes\", \"cs\", \"pdna\", \"cgo\", \"pain\", \"term\", \"surgical\", \"gene\", \"liver\", \"vectors\", \"lfs\", \"fech\", \"aars2\", \"leukoencephalopathy\", \"release\", \"thz\", \"pc\", \"cd\", \"g6pc\", \"triblock\", \"treg\", \"cells\", \"reported\", \"sub\", \"snps\", \"eculizumab\", \"taz\", \"irs\", \"myofibroblast\", \"benzoxazinone\", \"spcs\", \"porphyria\", \"ahus\", \"impairment\", \"derivatives\", \"cells\", \"systemic\", \"melanoma\", \"steap1\", \"ns\", \"iron\", \"steroid\", \"peg\", \"vn\", \"ezh2\", \"interferon\", \"srns\", \"nfatc2\", \"strategies\", \"response\", \"therapy\", \"chd1\", \"variants\", \"mcd\", \"ligand\", \"cystic\", \"chst6\", \"fibrosis\", \"correlation\", \"prostate\", \"neuroscience\", \"gba\", \"pd\", \"modeling\", \"lysosomal\", \"advantages\", \"facilitated\", \"involved\", \"autonomous\", \"dementia\", \"ageing\", \"mechanisms\", \"disease\", \"brain\", \"studies\", \"bladder\", \"subtype\", \"areas\", \"epidemiological\", \"immunodeficiency\", \"hivdr\", \"sparing\", \"mibc\", \"radical\", \"challenging\", \"markers\", \"dominant\"], \"Total\": [0.0, 0.0, 0.0, 0.0, 0.0, 0.0, 0.0, 0.0, 0.0, 0.0, 0.2926541499505589, 0.32878551920563154, 0.25050924226933097, 0.2557120918052397, 0.3232370380071267, 0.23926554571353947, 0.33622529004718754, 0.22285376882628927, 0.24673398130131524, 0.23476218784109235, 0.4182696172860203, 0.3618338246415591, 0.3570015591002704, 0.2460451866239624, 0.26492251088918584, 0.2404179128587085, 0.21491087508939033, 0.23908358262484933, 0.22716444719882653, 0.23386654788723096, 0.22202852036162857, 0.23728153292734488, 0.22171844349971967, 0.23868705649758387, 0.2866201642364898, 0.2863750220678467, 0.3463639973912544, 0.3473658407122732, 0.21734344041242631, 0.21120651122904596, 0.2195618873028473, 0.21492073760036598, 0.21310076252668042, 0.20821251868505206, 0.19043064720527536, 0.21367879515577676, 0.20734267884887597, 0.22022984544000446, 0.2923584310381482, 0.2091180829545574, 0.3293521491109841, 0.21187852617499128, 0.21529522656788974, 0.2134810342867538, 0.20492801148789982, 0.20241743339531426, 0.21129094450421226, 0.20156763429314348, 0.1977382524013604, 0.24766009896274904, 0.22738617160199956, 0.4182696172860203, 0.26737417822297493, 0.33622529004718754, 0.2112875804536811, 0.20657713212063025, 0.2011321371805846, 0.20164228944391877, 0.1980902793241167, 0.1985605872065699, 0.19497192886155065, 0.19439546367569102, 0.19991640862260385, 0.1894668296549589, 0.19554933558038, 0.3570015591002704, 0.2398200847217658, 0.26492251088918584, 0.21473773586319797, 0.20407353030888195, 0.20312174446953918, 0.2068224889904453, 0.20937980473247117, 0.2094189343237686, 0.1911338444414293, 0.1924228143359626, 0.2084750686397581, 0.1918650309689812, 0.20713947268192248, 0.3570015591002704, 0.2294318491295493, 0.2274476676416566, 0.207701365493995, 0.19818826881166188, 0.2065931891817246, 0.2001432224788535, 0.20593238701489103, 0.19938769130728493, 0.20042525695321128, 0.18978259335769876, 0.1957054030559066, 0.20357025648074928, 0.2171718562789398, 0.23454250464561466, 0.3618338246415591, 0.19088991801220673, 0.2304529080143093, 0.1880853946003558, 0.19320682969636047, 0.19166391300671282, 0.19403844956794752, 0.18999694120460864, 0.20396965561971134, 0.19183196216484802, 0.1925052346312674, 0.18837121655951708, 0.2024187337562032, 0.1856130140627952, 0.18352106813384686, 0.18154719433536223, 0.16954269500706268, 0.1961280398715309, 0.18167877187387843, 0.18519160117326114, 0.17515518104989333, 0.2071604839504652, 0.310871416032433, 0.23728153292734488, 0.26349842485327013, 0.18280540100441636, 0.17204921443158616, 0.19267222424984867, 0.18784585351411182, 0.18476494756895626, 0.19510848734608427, 0.18321025746030295, 0.18263548539875624, 0.18141082766387345, 0.19989067442299363, 0.20095707659557466, 0.23029094166633793], \"loglift\": [10.0, 9.0, 8.0, 7.0, 6.0, 5.0, 4.0, 3.0, 2.0, 1.0, 0.743, 0.7192, 0.678, 0.6774, 0.6659, 0.6651, 0.664, 0.6337, 0.5973, 0.587, 0.5639, 0.4584, 0.3281, 0.7192, 0.7176, 0.6965, 0.6578, 0.6578, 0.6395, 0.6365, 0.6284, 0.6228, 0.6112, 0.6096, 0.5417, 0.5353, 0.276, 0.2395, 0.8341, 0.7612, 0.7277, 0.6967, 0.6422, 0.635, 0.6238, 0.6125, 0.6113, 0.5739, 0.5517, 0.9101, 0.8301, 0.7923, 0.7881, 0.756, 0.7082, 0.682, 0.6524, 0.6354, 0.6348, 0.6249, 0.6079, 0.2773, 0.4827, 0.2179, 0.8309, 0.8221, 0.783, 0.7743, 0.7182, 0.7052, 0.6322, 0.6305, 0.6156, 0.6138, 0.6098, 0.1733, 0.4326, 0.3302, 0.8914, 0.8094, 0.8043, 0.8021, 0.7341, 0.7109, 0.688, 0.6715, 0.6664, 0.6422, 0.627, 0.1752, 0.5187, 1.1982, 0.9306, 0.8921, 0.8407, 0.8012, 0.7819, 0.7731, 0.6485, 0.6115, 0.6064, 0.6057, 0.5644, 0.5078, 0.0999, 0.9114, 0.7818, 0.7243, 0.6792, 0.6558, 0.6517, 0.6126, 0.5919, 0.5819, 0.5818, 0.9339, 0.7003, 0.4988, 0.3848, 0.3701, 0.3683, 0.3582, 0.3383, 0.3273, 0.3215, 0.2429, -0.0702, 0.1169, 0.0209, 0.8612, 0.7868, 0.6944, 0.6747, 0.6629, 0.5998, 0.5695, 0.5629, 0.5536, 0.5515, 0.5231, 0.3578], \"logprob\": [10.0, 9.0, 8.0, 7.0, 6.0, 5.0, 4.0, 3.0, 2.0, 1.0, -6.989, -6.8964, -7.2095, -7.1896, -6.9667, -7.2684, -6.9292, -7.3708, -7.3054, -7.3654, -6.8111, -7.0614, -7.2052, -7.1863, -7.114, -7.2321, -7.383, -7.2765, -7.3459, -7.3198, -7.3798, -7.319, -7.3984, -7.3263, -7.2111, -7.2184, -7.2875, -7.3212, -7.1954, -7.297, -7.2917, -7.3441, -7.407, -7.4374, -7.5379, -7.4341, -7.4653, -7.4425, -7.1813, -7.158, -6.7838, -7.2627, -7.2509, -7.2915, -7.3802, -7.4187, -7.4054, -7.4695, -7.4893, -7.2741, -7.3765, -7.0976, -7.3397, -7.3754, -7.2269, -7.2583, -7.3241, -7.3302, -7.4041, -7.4147, -7.506, -7.5106, -7.4975, -7.553, -7.5255, -7.3599, -7.4985, -7.5014, -7.1502, -7.2831, -7.2929, -7.2771, -7.3328, -7.3558, -7.47, -7.4799, -7.4048, -7.512, -7.4507, -7.3581, -7.4568, -6.7859, -7.1443, -7.2297, -7.2396, -7.3108, -7.3016, -7.3427, -7.4621, -7.5537, -7.528, -7.4893, -7.466, -7.4456, -7.4199, -7.2479, -7.1892, -7.4499, -7.4681, -7.4995, -7.4913, -7.5515, -7.5012, -7.5726, -7.5691, -7.2388, -7.4004, -7.6885, -7.8139, -7.8394, -7.9096, -7.7741, -7.8705, -7.8623, -7.9239, -7.8346, -7.7419, -7.8249, -7.816, -7.3414, -7.4764, -7.4556, -7.5007, -7.5291, -7.5377, -7.6309, -7.6407, -7.6567, -7.5618, -7.5848, -7.6139]}, \"token.table\": {\"Topic\": [], \"Freq\": [], \"Term\": []}, \"R\": 10, \"lambda.step\": 0.01, \"plot.opts\": {\"xlab\": \"PC1\", \"ylab\": \"PC2\"}, \"topic.order\": [6, 9, 4, 3, 2, 1, 10, 7, 8, 5]};\n",
       "\n",
       "function LDAvis_load_lib(url, callback){\n",
       "  var s = document.createElement('script');\n",
       "  s.src = url;\n",
       "  s.async = true;\n",
       "  s.onreadystatechange = s.onload = callback;\n",
       "  s.onerror = function(){console.warn(\"failed to load library \" + url);};\n",
       "  document.getElementsByTagName(\"head\")[0].appendChild(s);\n",
       "}\n",
       "\n",
       "if(typeof(LDAvis) !== \"undefined\"){\n",
       "   // already loaded: just create the visualization\n",
       "   !function(LDAvis){\n",
       "       new LDAvis(\"#\" + \"ldavis_el28911400218847391604871890412\", ldavis_el28911400218847391604871890412_data);\n",
       "   }(LDAvis);\n",
       "}else if(typeof define === \"function\" && define.amd){\n",
       "   // require.js is available: use it to load d3/LDAvis\n",
       "   require.config({paths: {d3: \"https://cdnjs.cloudflare.com/ajax/libs/d3/3.5.5/d3.min\"}});\n",
       "   require([\"d3\"], function(d3){\n",
       "      window.d3 = d3;\n",
       "      LDAvis_load_lib(\"https://cdn.rawgit.com/bmabey/pyLDAvis/files/ldavis.v1.0.0.js\", function(){\n",
       "        new LDAvis(\"#\" + \"ldavis_el28911400218847391604871890412\", ldavis_el28911400218847391604871890412_data);\n",
       "      });\n",
       "    });\n",
       "}else{\n",
       "    // require.js not available: dynamically load d3 & LDAvis\n",
       "    LDAvis_load_lib(\"https://cdnjs.cloudflare.com/ajax/libs/d3/3.5.5/d3.min.js\", function(){\n",
       "         LDAvis_load_lib(\"https://cdn.rawgit.com/bmabey/pyLDAvis/files/ldavis.v1.0.0.js\", function(){\n",
       "                 new LDAvis(\"#\" + \"ldavis_el28911400218847391604871890412\", ldavis_el28911400218847391604871890412_data);\n",
       "            })\n",
       "         });\n",
       "}\n",
       "</script>"
      ],
      "text/plain": [
       "PreparedData(topic_coordinates=            Freq  cluster  topics           x           y\n",
       "topic                                                    \n",
       "5      20.693446        1       1  124.364807   -3.041184\n",
       "8      19.060554        1       2   31.463371   68.117889\n",
       "3      13.012010        1       3  -56.127460  146.906677\n",
       "2      11.522483        1       4  145.245880   98.682457\n",
       "1       9.065029        1       5  -15.510025 -128.050049\n",
       "0       8.942207        1       6   96.903442 -103.188919\n",
       "9       8.417129        1       7 -104.470146  -54.967331\n",
       "6       4.873226        1       8  -83.596214   46.759289\n",
       "7       2.224770        1       9    9.307807  -24.400661\n",
       "4       2.189147        1      10   56.286880  171.765549, topic_info=     Category      Freq              Term     Total  loglift  logprob\n",
       "term                                                                 \n",
       "1326  Default  0.000000               gba  0.000000  10.0000  10.0000\n",
       "1936  Default  0.000000          melanoma  0.000000   9.0000   9.0000\n",
       "433   Default  0.000000           bladder  0.000000   8.0000   8.0000\n",
       "2316  Default  0.000000                pd  0.000000   7.0000   7.0000\n",
       "322   Default  0.000000             areas  0.000000   6.0000   6.0000\n",
       "3051  Default  0.000000           subtype  0.000000   5.0000   5.0000\n",
       "3007  Default  0.000000            steap1  0.000000   4.0000   4.0000\n",
       "1115  Default  0.000000   epidemiological  0.000000   3.0000   3.0000\n",
       "3337  Default  0.000000          variants  0.000000   2.0000   2.0000\n",
       "571   Default  0.000000              chd1  0.000000   1.0000   1.0000\n",
       "3362   Topic1  0.127314             viral  0.292654   0.7430  -6.9890\n",
       "3343   Topic1  0.139669            vector  0.328786   0.7192  -6.8964\n",
       "3346   Topic1  0.102121              vein  0.250509   0.6780  -7.2095\n",
       "787    Topic1  0.104173            crispr  0.255712   0.6774  -7.1896\n",
       "880    Topic1  0.130187          delivery  0.323237   0.6659  -6.9667\n",
       "1917   Topic1  0.096284               mdx  0.239266   0.6651  -7.2684\n",
       "3344   Topic1  0.135156           vectors  0.336225   0.6640  -6.9292\n",
       "2466   Topic1  0.086910           prevent  0.222854   0.6337  -7.3708\n",
       "1392   Topic1  0.092784            gucy2c  0.246734   0.5973  -7.3054\n",
       "2542   Topic1  0.087378          protocol  0.234762   0.5870  -7.3654\n",
       "1331   Topic1  0.152113              gene  0.418270   0.5639  -6.8111\n",
       "3167   Topic1  0.118422           therapy  0.361834   0.4584  -7.0614\n",
       "540    Topic1  0.102567             cells  0.357002   0.3281  -7.2052\n",
       "524    Topic2  0.096274           catenin  0.246045   0.7192  -7.1863\n",
       "3039   Topic2  0.103490               sub  0.264923   0.7176  -7.1140\n",
       "550    Topic2  0.091960          cervical  0.240418   0.6965  -7.2321\n",
       "2649   Topic2  0.079085             redox  0.214911   0.6578  -7.3830\n",
       "1317   Topic2  0.087972               gan  0.239084   0.6578  -7.2765\n",
       "446    Topic2  0.082073                bm  0.227164   0.6395  -7.3459\n",
       "2607   Topic2  0.084240              rats  0.233867   0.6365  -7.3198\n",
       "...       ...       ...               ...       ...      ...      ...\n",
       "1245   Topic8  0.017084          fibrosis  0.189997   0.6126  -7.5515\n",
       "765    Topic8  0.017966       correlation  0.203970   0.5919  -7.5012\n",
       "2531   Topic8  0.016728          prostate  0.191832   0.5819  -7.5726\n",
       "2147   Topic8  0.016785      neuroscience  0.192505   0.5818  -7.5691\n",
       "1326   Topic9  0.010663               gba  0.188371   0.9339  -7.2388\n",
       "2316   Topic9  0.009071                pd  0.202419   0.7003  -7.4004\n",
       "2011   Topic9  0.006800          modeling  0.185613   0.4988  -7.6885\n",
       "1855   Topic9  0.005999         lysosomal  0.183521   0.3848  -7.8139\n",
       "194    Topic9  0.005848        advantages  0.181547   0.3701  -7.8394\n",
       "1215   Topic9  0.005451       facilitated  0.169543   0.3683  -7.9096\n",
       "1703   Topic9  0.006243          involved  0.196128   0.3582  -7.7741\n",
       "375    Topic9  0.005669        autonomous  0.181679   0.3383  -7.8705\n",
       "883    Topic9  0.005716          dementia  0.185192   0.3273  -7.8623\n",
       "206    Topic9  0.005374            ageing  0.175155   0.3215  -7.9239\n",
       "1926   Topic9  0.005876        mechanisms  0.207160   0.2429  -7.8346\n",
       "972    Topic9  0.006447           disease  0.310871  -0.0702  -7.7419\n",
       "460    Topic9  0.005934             brain  0.237282   0.1169  -7.8249\n",
       "3037   Topic9  0.005986           studies  0.263498   0.0209  -7.8160\n",
       "433   Topic10  0.009469           bladder  0.182805   0.8612  -7.3414\n",
       "3051  Topic10  0.008273           subtype  0.172049   0.7868  -7.4764\n",
       "322   Topic10  0.008446             areas  0.192672   0.6944  -7.4556\n",
       "1115  Topic10  0.008074   epidemiological  0.187846   0.6747  -7.5007\n",
       "1538  Topic10  0.007848  immunodeficiency  0.184765   0.6629  -7.5291\n",
       "1468  Topic10  0.007781             hivdr  0.195108   0.5998  -7.5377\n",
       "2960  Topic10  0.007089           sparing  0.183210   0.5695  -7.6309\n",
       "1962  Topic10  0.007020              mibc  0.182635   0.5629  -7.6407\n",
       "2591  Topic10  0.006908           radical  0.181411   0.5536  -7.6567\n",
       "559   Topic10  0.007596       challenging  0.199891   0.5515  -7.5618\n",
       "1898  Topic10  0.007423           markers  0.200957   0.5231  -7.5848\n",
       "1003  Topic10  0.007210          dominant  0.230291   0.3578  -7.6139\n",
       "\n",
       "[141 rows x 6 columns], token_table=Empty DataFrame\n",
       "Columns: [Topic, Freq, Term]\n",
       "Index: [], R=10, lambda_step=0.01, plot_opts={'xlab': 'PC1', 'ylab': 'PC2'}, topic_order=[6, 9, 4, 3, 2, 1, 10, 7, 8, 5])"
      ]
     },
     "execution_count": 11,
     "metadata": {},
     "output_type": "execute_result"
    }
   ],
   "source": [
    "import pyLDAvis.sklearn\n",
    " \n",
    "pyLDAvis.enable_notebook()\n",
    "panel = pyLDAvis.sklearn.prepare(lda, abstracts_tfidf, vectorizer, R=10, mds='tsne')\n",
    "panel"
   ]
  },
  {
   "cell_type": "code",
   "execution_count": null,
   "metadata": {},
   "outputs": [],
   "source": []
  }
 ],
 "metadata": {
  "kernelspec": {
   "display_name": "Python 3",
   "language": "python",
   "name": "python3"
  },
  "language_info": {
   "codemirror_mode": {
    "name": "ipython",
    "version": 3
   },
   "file_extension": ".py",
   "mimetype": "text/x-python",
   "name": "python",
   "nbconvert_exporter": "python",
   "pygments_lexer": "ipython3",
   "version": "3.6.7"
  }
 },
 "nbformat": 4,
 "nbformat_minor": 2
}
